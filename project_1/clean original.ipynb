{
 "cells": [
  {
   "cell_type": "markdown",
   "metadata": {
    "collapsed": true,
    "deletable": true,
    "editable": true
   },
   "source": [
    "# Working files\n",
    "- added diagonal to unitlist"
   ]
  },
  {
   "cell_type": "code",
   "execution_count": 1,
   "metadata": {
    "collapsed": true,
    "deletable": true,
    "editable": true
   },
   "outputs": [],
   "source": [
    "rows = 'ABCDEFGHI'\n",
    "cols = '123456789'"
   ]
  },
  {
   "cell_type": "code",
   "execution_count": 2,
   "metadata": {
    "collapsed": true,
    "deletable": true,
    "editable": true
   },
   "outputs": [],
   "source": [
    "# \n",
    "assignments = []\n",
    "\n",
    "def assign_value(values, box, value):  #? dict, box, value\n",
    "    \"\"\"\n",
    "    Please use this function to update your values dictionary!\n",
    "    Assigns a value to a given box. If it updates the board record it.\n",
    "    \"\"\"\n",
    "\n",
    "    # Don't waste memory appending actions that don't actually change any values\n",
    "    if values[box] == value:\n",
    "        return values\n",
    "\n",
    "    values[box] = value\n",
    "    if len(value) == 1:\n",
    "        assignments.append(values.copy())\n",
    "    return values\n"
   ]
  },
  {
   "cell_type": "code",
   "execution_count": 3,
   "metadata": {
    "collapsed": true,
    "deletable": true,
    "editable": true
   },
   "outputs": [],
   "source": [
    "def cross(a, b):\n",
    "    return [s+t for s in a for t in b]"
   ]
  },
  {
   "cell_type": "code",
   "execution_count": 4,
   "metadata": {
    "collapsed": true,
    "deletable": true,
    "editable": true
   },
   "outputs": [],
   "source": [
    "\n",
    "boxes = cross(rows, cols)\n",
    "row_units = [cross(r, cols) for r in rows]\n",
    "column_units = [cross(rows, c) for c in cols]\n",
    "square_units = [cross(rs, cs) for rs in ('ABC','DEF','GHI') for cs in ('123','456','789')]\n",
    "\n",
    "#DIAGONALS\n",
    "diag_topL_bottomR = [[row_units[i][i] for i in range(len(row_units))]]  # Diagonal Top left to bottom right\n",
    "diag_topR_bottomL = [[row_units[i][len(row_units)-1-i] for i in range(len(row_units))]]  # Diagonal from top right bottom left"
   ]
  },
  {
   "cell_type": "code",
   "execution_count": 5,
   "metadata": {
    "collapsed": true,
    "deletable": true,
    "editable": true
   },
   "outputs": [],
   "source": [
    "# lets add diags to unitlist\n",
    "#unitlist = row_units + column_units + square_units\n",
    "\n",
    "unitlist = row_units + column_units + square_units + diag_topL_bottomR + diag_topR_bottomL"
   ]
  },
  {
   "cell_type": "code",
   "execution_count": 6,
   "metadata": {
    "collapsed": false,
    "deletable": true,
    "editable": true
   },
   "outputs": [],
   "source": [
    "units = dict((s, [u for u in unitlist if s in u]) for s in boxes)\n",
    "peers = dict((s, set(sum(units[s],[]))-set([s])) for s in boxes)"
   ]
  },
  {
   "cell_type": "code",
   "execution_count": 7,
   "metadata": {
    "collapsed": true,
    "deletable": true,
    "editable": true
   },
   "outputs": [],
   "source": [
    "def display(values):\n",
    "    \"\"\"\n",
    "    Display the values as a 2-D grid.\n",
    "    Input: The sudoku in dictionary form\n",
    "    Output: None\n",
    "    \"\"\"\n",
    "    width = 1+max(len(values[s]) for s in boxes)\n",
    "    line = '+'.join(['-'*(width*3)]*3)\n",
    "    for r in rows:\n",
    "        print(''.join(values[r+c].center(width)+('|' if c in '36' else '')\n",
    "                      for c in cols))\n",
    "        if r in 'CF': print(line)\n",
    "    return"
   ]
  },
  {
   "cell_type": "code",
   "execution_count": 8,
   "metadata": {
    "collapsed": true,
    "deletable": true,
    "editable": true
   },
   "outputs": [],
   "source": [
    "def clean_values(grid):\n",
    "    \"\"\"Convert grid string into {<box>: <value>} dict with '.' value for empties.\n",
    "\n",
    "    Args:\n",
    "        grid: Sudoku grid in string form, 81 characters long\n",
    "    Returns:\n",
    "        Sudoku grid in dictionary form:\n",
    "        - keys: Box labels, e.g. 'A1'\n",
    "        - values: Value in corresponding box, e.g. '8', or '.' if it is empty.\n",
    "    \"\"\"\n",
    "    assert len(grid) == 81, \"Input grid must be a string of length 81 (9x9)\"\n",
    "    return dict(zip(boxes, grid))\n",
    "\n",
    "# WARNING! We've modified this function to return '123456789' instead of '.' for boxes with no value.\n",
    "# Look at the explanation above in the text."
   ]
  },
  {
   "cell_type": "code",
   "execution_count": 9,
   "metadata": {
    "collapsed": true,
    "deletable": true,
    "editable": true
   },
   "outputs": [],
   "source": [
    "def grid_values(grid):\n",
    "    \"\"\"Convert grid string into {<box>: <value>} dict with '123456789' value for empties.\n",
    "\n",
    "    Args:\n",
    "        grid: Sudoku grid in string form, 81 characters long\n",
    "    Returns:\n",
    "        Sudoku grid in dictionary form:\n",
    "        - keys: Box labels, e.g. 'A1'\n",
    "        - values: Value in corresponding box, e.g. '8', or '123456789' if it is empty.\n",
    "    \"\"\"\n",
    "    values = []\n",
    "    all_digits = '123456789'\n",
    "    for c in grid:\n",
    "        if c == '.':\n",
    "            values.append(all_digits)\n",
    "        elif c in all_digits:\n",
    "            values.append(c)\n",
    "    assert len(values) == 81\n",
    "    return dict(zip(boxes, values))"
   ]
  },
  {
   "cell_type": "code",
   "execution_count": 10,
   "metadata": {
    "collapsed": true,
    "deletable": true,
    "editable": true
   },
   "outputs": [],
   "source": [
    "# goes 1st\n",
    "\n",
    "def eliminate(values):\n",
    "    \"\"\"Eliminate values from peers of each box with a single value.\n",
    "\n",
    "    Go through all the boxes, and whenever there is a box with a single value,\n",
    "    eliminate this value from the set of values of all its peers.\n",
    "\n",
    "    Args:\n",
    "        values: Sudoku in dictionary form.\n",
    "    Returns:\n",
    "        Resulting Sudoku in dictionary form after eliminating values.\n",
    "    \"\"\"\n",
    "    solved_values = [box for box in values.keys() if len(values[box]) == 1]\n",
    "    for box in solved_values:\n",
    "        digit = values[box]\n",
    "        for peer in peers[box]:\n",
    "            values[peer] = values[peer].replace(digit,'')\n",
    "    return values"
   ]
  },
  {
   "cell_type": "code",
   "execution_count": 26,
   "metadata": {
    "collapsed": true,
    "deletable": true,
    "editable": true
   },
   "outputs": [],
   "source": [
    "# goes 2nd\n",
    "def only_choice(values):\n",
    "    \"\"\"Finalize all values that are the only choice for a unit.\n",
    "\n",
    "    Go through all the units, and whenever there is a unit with a value\n",
    "    that only fits in one box, assign the value to this box.\n",
    "\n",
    "    Input: Sudoku in dictionary form.\n",
    "    Output: Resulting Sudoku in dictionary form after filling in only choices.\n",
    "    \"\"\"\n",
    "    for unit in unitlist:\n",
    "        for digit in '123456789':\n",
    "            dplaces = [box for box in unit if digit in values[box]]\n",
    "            if len(dplaces) == 1:\n",
    "                values[dplaces[0]] = digit\n",
    "    return values"
   ]
  },
  {
   "cell_type": "code",
   "execution_count": null,
   "metadata": {
    "collapsed": false,
    "deletable": true,
    "editable": true
   },
   "outputs": [],
   "source": [
    "def naked_twins(values):\n",
    "    \"\"\"Eliminate values using the naked twins strategy.\n",
    "    Args:\n",
    "        values(dict): a dictionary of the form {'box_name': '123456789', ...}\n",
    "\n",
    "    Returns:\n",
    "        the values dictionary with the naked twins eliminated from peers.\n",
    "    \"\"\"\n",
    "\n",
    "    # Find all instances of naked twins\n",
    "    # Eliminate the naked twins as possibilities for their peers\n",
    "    twins_solved_values = [box for box in values.keys() if len(values[box]) == 2]\n",
    "    for box in twins_solved_values:\n",
    "        print('box {}:value {}'.format(box, values[box]))\n",
    "        print('box:{}, has peers {}'.format(box, unitlist[box]))\n",
    "\n",
    "            \n",
    "\n",
    "            \n",
    "           \n",
    "\n",
    "        \n",
    "    return values\n"
   ]
  },
  {
   "cell_type": "code",
   "execution_count": 12,
   "metadata": {
    "collapsed": false,
    "deletable": true,
    "editable": true
   },
   "outputs": [],
   "source": [
    "def reduce_puzzle(values):\n",
    "    \"\"\"\n",
    "    Iterate eliminate() and only_choice(). If at some point, there is a box with no available values, return False.\n",
    "    If the sudoku is solved, return the sudoku.\n",
    "    If after an iteration of both functions, the sudoku remains the same, return the sudoku.\n",
    "    Input: A sudoku in dictionary form.\n",
    "    Output: The resulting sudoku in dictionary form.\n",
    "    \"\"\"\n",
    "    stalled = False\n",
    "\n",
    "    while not stalled:\n",
    "        # Check how many boxes have a determined value\n",
    "        solved_values_before = len([box for box in values.keys() if len(values[box]) == 1])\n",
    "        \n",
    "        #NAKED TWIN???\n",
    "        #values = naked_twins(values)\n",
    "        # Use the Eliminate Strategy\n",
    "        values = eliminate(values)\n",
    "        # Use the Only Choice Strategy\n",
    "        values = only_choice(values)\n",
    "        # Check how many boxes have a determined value, to compare\n",
    "        solved_values_after = len([box for box in values.keys() if len(values[box]) == 1])\n",
    "        # If no new values were added, stop the loop.\n",
    "        stalled = solved_values_before == solved_values_after\n",
    "        # Sanity check, return False if there is a box with zero available values:\n",
    "        if len([box for box in values.keys() if len(values[box]) == 0]):\n",
    "            return False\n",
    "    return values"
   ]
  },
  {
   "cell_type": "code",
   "execution_count": 13,
   "metadata": {
    "collapsed": true,
    "deletable": true,
    "editable": true
   },
   "outputs": [],
   "source": [
    "# goes 3rd\n",
    "def search(values):\n",
    "    \"Using depth-first search and propagation, try all possible values.\"\n",
    "    # First, reduce the puzzle using the previous function\n",
    "    values = reduce_puzzle(values)\n",
    "    if values is False:\n",
    "        return False ## Failed earlier\n",
    "    if all(len(values[s]) == 1 for s in boxes):\n",
    "        return values ## Solved!\n",
    "    # Choose one of the unfilled squares with the fewest possibilities\n",
    "    n,s = min((len(values[s]), s) for s in boxes if len(values[s]) > 1)\n",
    "    # Now use recurrence to solve each one of the resulting sudokus, and\n",
    "    for value in values[s]:\n",
    "        new_sudoku = values.copy()\n",
    "        new_sudoku[s] = value\n",
    "        attempt = search(new_sudoku)\n",
    "        if attempt:\n",
    "            return attempt"
   ]
  },
  {
   "cell_type": "code",
   "execution_count": 15,
   "metadata": {
    "collapsed": false,
    "deletable": true,
    "editable": true
   },
   "outputs": [
    {
     "name": "stdout",
     "output_type": "stream",
     "text": [
      "-------------------------------\n",
      "ORIGINAL BOARD\n",
      "2 . . |. . . |. . . \n",
      ". . . |. . 6 |2 . . \n",
      ". . 1 |. . . |. 7 . \n",
      "------+------+------\n",
      ". . 6 |. . 8 |. . . \n",
      "3 . . |. 9 . |. . 7 \n",
      ". . . |6 . . |4 . . \n",
      "------+------+------\n",
      ". 4 . |. . . |8 . . \n",
      ". . 5 |2 . . |. . . \n",
      ". . . |. . . |. . 3 \n",
      "-------------------------\n",
      "SOLVED BOARD\n",
      "2 6 7 |9 4 5 |3 8 1 \n",
      "8 5 3 |7 1 6 |2 4 9 \n",
      "4 9 1 |8 2 3 |5 7 6 \n",
      "------+------+------\n",
      "5 7 6 |4 3 8 |1 9 2 \n",
      "3 8 4 |1 9 2 |6 5 7 \n",
      "1 2 9 |6 5 7 |4 3 8 \n",
      "------+------+------\n",
      "6 4 2 |3 7 9 |8 1 5 \n",
      "9 3 5 |2 8 1 |7 6 4 \n",
      "7 1 8 |5 6 4 |9 2 3 \n"
     ]
    }
   ],
   "source": [
    "easy = '..3.2.6..9..3.5..1..18.64....81.29..7.......8..67.82....26.95..8..2.3..9..5.1.3..'\n",
    "medium = '4.....8.5.3..........7......2.....6.....8.4......1.......6.3.7.5..2.....1.4......'\n",
    "diag_sudoku_grid = '2.............62....1....7...6..8...3...9...7...6..4...4....8....52.............3'\n",
    "\n",
    "\n",
    "game_board = grid_values(diag_sudoku_grid)\n",
    "game_board_clean = clean_values(diag_sudoku_grid)\n",
    "\n",
    "\n",
    "\n",
    "print('-------------------------------')\n",
    "print(\"ORIGINAL BOARD\")\n",
    "display(game_board_clean)\n",
    "\n",
    "print('-------------------------')\n",
    "print('SOLVED BOARD')\n",
    "\n",
    "display(search(game_board))\n"
   ]
  },
  {
   "cell_type": "code",
   "execution_count": null,
   "metadata": {
    "collapsed": true
   },
   "outputs": [],
   "source": []
  },
  {
   "cell_type": "code",
   "execution_count": 156,
   "metadata": {
    "collapsed": false
   },
   "outputs": [],
   "source": [
    "\n",
    "\n",
    "\n",
    "\n",
    "easy = '..3.2.6..9..3.5..1..18.64....81.29..7.......8..67.82....26.95..8..2.3..9..5.1.3..'\n",
    "medium = '4.....8.5.3..........7......2.....6.....8.4......1.......6.3.7.5..2.....1.4......'\n",
    "diag_sudoku_grid = '2.............62....1....7...6..8...3...9...7...6..4...4....8....52.............3'\n",
    "\n",
    "\n",
    "data = grid_values(diag_sudoku_grid)\n",
    "clean_data = clean_values(diag_sudoku_grid)\n",
    "#eminate = eliminate(data)\n",
    "#ochoice = only_choice(data)\n",
    "\n",
    "#eliminate_choice = eliminate(data)\n",
    "\n",
    "\n",
    "#sample = eliminate(data)"
   ]
  },
  {
   "cell_type": "code",
   "execution_count": 153,
   "metadata": {
    "collapsed": false
   },
   "outputs": [],
   "source": [
    "nk_dataset = {'A1': '1',\n",
    " 'A2': '123456789',\n",
    " 'A3': '4',\n",
    " 'A4': '123456789',\n",
    " 'A5': '9',\n",
    " 'A6': '123456789',\n",
    " 'A7': '123456789',\n",
    " 'A8': '6',\n",
    " 'A9': '8',\n",
    " 'B1': '9',\n",
    " 'B2': '5',\n",
    " 'B3': '6',\n",
    " 'B4': '123456789',\n",
    " 'B5': '1',\n",
    " 'B6': '8',\n",
    " 'B7': '123456789',\n",
    " 'B8': '3',\n",
    " 'B9': '4',\n",
    " 'C1': '123456789',\n",
    " 'C2': '123456789',\n",
    " 'C3': '8',\n",
    " 'C4': '4',\n",
    " 'C5': '123456789',\n",
    " 'C6': '6',\n",
    " 'C7': '9',\n",
    " 'C8': '5',\n",
    " 'C9': '1',\n",
    " 'D1': '5',\n",
    " 'D2': '1',\n",
    " 'D3': '2379',\n",
    " 'D4': '123456789',\n",
    " 'D5': '123456789',\n",
    " 'D6': '123456789',\n",
    " 'D7': '123456789',\n",
    " 'D8': '8',\n",
    " 'D9': '6',\n",
    " 'E1': '8',\n",
    " 'E2': '123456789',\n",
    " 'E3': '379',\n",
    " 'E4': '6',\n",
    " 'E5': '123456789',\n",
    " 'E6': '123456789',\n",
    " 'E7': '123456789',\n",
    " 'E8': '1',\n",
    " 'E9': '2',\n",
    " 'F1': '6',\n",
    " 'F2': '4',\n",
    " 'F3': '23',\n",
    " 'F4': '123456789',\n",
    " 'F5': '8',\n",
    " 'F6': '123456789',\n",
    " 'F7': '123456789',\n",
    " 'F8': '9',\n",
    " 'F9': '7',\n",
    " 'G1': '7',\n",
    " 'G2': '8',\n",
    " 'G3': '1',\n",
    " 'G4': '9',\n",
    " 'G5': '2',\n",
    " 'G6': '3',\n",
    " 'G7': '6',\n",
    " 'G8': '4',\n",
    " 'G9': '5',\n",
    " 'H1': '4',\n",
    " 'H2': '9',\n",
    " 'H3': '5',\n",
    " 'H4': '123456789',\n",
    " 'H5': '6',\n",
    " 'H6': '123456789',\n",
    " 'H7': '8',\n",
    " 'H8': '2',\n",
    " 'H9': '3',\n",
    " 'I1': '123456789',\n",
    " 'I2': '6',\n",
    " 'I3': '23',\n",
    " 'I4': '8',\n",
    " 'I5': '5',\n",
    " 'I6': '4',\n",
    " 'I7': '1',\n",
    " 'I8': '7',\n",
    " 'I9': '9'}"
   ]
  },
  {
   "cell_type": "code",
   "execution_count": 154,
   "metadata": {
    "collapsed": false
   },
   "outputs": [
    {
     "name": "stdout",
     "output_type": "stream",
     "text": [
      "    1     123456789     4     |123456789     9     123456789 |123456789     6         8     \n",
      "    9         5         6     |123456789     1         8     |123456789     3         4     \n",
      "123456789 123456789     8     |    4     123456789     6     |    9         5         1     \n",
      "------------------------------+------------------------------+------------------------------\n",
      "    5         1        2379   |123456789 123456789 123456789 |123456789     8         6     \n",
      "    8     123456789    379    |    6     123456789 123456789 |123456789     1         2     \n",
      "    6         4         23    |123456789     8     123456789 |123456789     9         7     \n",
      "------------------------------+------------------------------+------------------------------\n",
      "    7         8         1     |    9         2         3     |    6         4         5     \n",
      "    4         9         5     |123456789     6     123456789 |    8         2         3     \n",
      "123456789     6         23    |    8         5         4     |    1         7         9     \n"
     ]
    }
   ],
   "source": [
    "display(nk_dataset)"
   ]
  },
  {
   "cell_type": "code",
   "execution_count": 193,
   "metadata": {
    "collapsed": false
   },
   "outputs": [
    {
     "data": {
      "text/plain": [
       "[['F1', 'F2', 'F3', 'F4', 'F5', 'F6', 'F7', 'F8', 'F9'],\n",
       " ['A3', 'B3', 'C3', 'D3', 'E3', 'F3', 'G3', 'H3', 'I3'],\n",
       " ['D1', 'D2', 'D3', 'E1', 'E2', 'E3', 'F1', 'F2', 'F3']]"
      ]
     },
     "execution_count": 193,
     "metadata": {},
     "output_type": "execute_result"
    }
   ],
   "source": [
    "units['F3']"
   ]
  },
  {
   "cell_type": "code",
   "execution_count": 317,
   "metadata": {
    "collapsed": false
   },
   "outputs": [],
   "source": [
    "def peer_twins(values):\n",
    "    \n",
    "    twin_values = [box for box in values.keys() if len(values[box]) == 2]\n",
    "    #print(twin_values)\n",
    "    for box in twin_values:\n",
    "        #print(box,values[box])\n",
    "        digit = values[box]\n",
    "        #print(box, digit)\n",
    "        for peer in peers[box]:\n",
    "            print('box:{}, value;{}, peer:{}, peer value:{}'.format(box, digit,peer, values[peer]))\n",
    "            #print(box,digit, values[peer],peer)\n",
    "            if digit == values[peer]:\n",
    "                print('value matches')\n",
    "            #values[peer] = values[peer].replace(digit,'')\n",
    "    #return values\n",
    "    \n",
    "def unit_twins(values):\n",
    "    twin_values = [box for box in values.keys() if len(values[box]) == 2]\n",
    "    #print(twin_values)\n",
    "    for box in twin_values:\n",
    "        print(peers[box])\n",
    "  \n",
    "    "
   ]
  },
  {
   "cell_type": "code",
   "execution_count": 318,
   "metadata": {
    "collapsed": false
   },
   "outputs": [
    {
     "name": "stdout",
     "output_type": "stream",
     "text": [
      "{'E2', 'B3', 'A3', 'F1', 'F5', 'D2', 'F2', 'C3', 'H3', 'F9', 'I3', 'F8', 'F4', 'F6', 'D1', 'E3', 'G3', 'E1', 'D3', 'F7'}\n",
      "{'I8', 'B3', 'A3', 'C3', 'I5', 'H3', 'I1', 'G1', 'I4', 'I6', 'F3', 'I2', 'I7', 'G2', 'H2', 'E3', 'G3', 'I9', 'D3', 'H1'}\n"
     ]
    }
   ],
   "source": [
    "unit_twins(nk_dataset)"
   ]
  },
  {
   "cell_type": "code",
   "execution_count": 303,
   "metadata": {
    "collapsed": false
   },
   "outputs": [
    {
     "data": {
      "text/plain": [
       "[['A1', 'B1', 'C1', 'D1', 'E1', 'F1', 'G1', 'H1', 'I1'],\n",
       " ['A2', 'B2', 'C2', 'D2', 'E2', 'F2', 'G2', 'H2', 'I2'],\n",
       " ['A3', 'B3', 'C3', 'D3', 'E3', 'F3', 'G3', 'H3', 'I3'],\n",
       " ['A4', 'B4', 'C4', 'D4', 'E4', 'F4', 'G4', 'H4', 'I4'],\n",
       " ['A5', 'B5', 'C5', 'D5', 'E5', 'F5', 'G5', 'H5', 'I5'],\n",
       " ['A6', 'B6', 'C6', 'D6', 'E6', 'F6', 'G6', 'H6', 'I6'],\n",
       " ['A7', 'B7', 'C7', 'D7', 'E7', 'F7', 'G7', 'H7', 'I7'],\n",
       " ['A8', 'B8', 'C8', 'D8', 'E8', 'F8', 'G8', 'H8', 'I8'],\n",
       " ['A9', 'B9', 'C9', 'D9', 'E9', 'F9', 'G9', 'H9', 'I9']]"
      ]
     },
     "execution_count": 303,
     "metadata": {},
     "output_type": "execute_result"
    }
   ],
   "source": [
    "column_units"
   ]
  },
  {
   "cell_type": "code",
   "execution_count": 297,
   "metadata": {
    "collapsed": false
   },
   "outputs": [
    {
     "data": {
      "text/plain": [
       "['A1', 'B1', 'C1', 'D1', 'E1', 'F1', 'G1', 'H1', 'I1']"
      ]
     },
     "execution_count": 297,
     "metadata": {},
     "output_type": "execute_result"
    }
   ],
   "source": [
    "column_units[0]"
   ]
  },
  {
   "cell_type": "code",
   "execution_count": 149,
   "metadata": {
    "collapsed": false
   },
   "outputs": [
    {
     "name": "stdout",
     "output_type": "stream",
     "text": [
      "['B2', 'C7', 'F6', 'H8', 'I1']\n",
      "B2 57\n",
      "C7 35\n",
      "F6 57\n",
      "H8 46\n",
      "I1 17\n"
     ]
    }
   ],
   "source": [
    "twins(eliminate(data))\n",
    "# B2 57\n",
    "#C7 35\n",
    "#F6 57\n",
    "#H8 46\n",
    "#I1 17"
   ]
  },
  {
   "cell_type": "code",
   "execution_count": 126,
   "metadata": {
    "collapsed": false
   },
   "outputs": [
    {
     "name": "stdout",
     "output_type": "stream",
     "text": [
      "['D4', 'G2', 'G3', 'H8']\n",
      "D4 59\n",
      "G2 89\n",
      "G3 29\n",
      "H8 19\n"
     ]
    }
   ],
   "source": [
    "twins(only_choice(eliminate(data)))"
   ]
  },
  {
   "cell_type": "code",
   "execution_count": 101,
   "metadata": {
    "collapsed": false
   },
   "outputs": [
    {
     "name": "stdout",
     "output_type": "stream",
     "text": [
      "CLEAN DATA\n",
      "2 . . |. . . |. . . \n",
      ". . . |. . 6 |2 . . \n",
      ". . 1 |. . . |. 7 . \n",
      "------+------+------\n",
      ". . 6 |. . 8 |. . . \n",
      "3 . . |. 9 . |. . 7 \n",
      ". . . |6 . . |4 . . \n",
      "------+------+------\n",
      ". 4 . |. . . |8 . . \n",
      ". . 5 |2 . . |. . . \n",
      ". . . |. . . |. . 3 \n",
      "None\n",
      "-------------------------------------------------------------------------\n",
      "EliMINATE\n",
      "   2     356789  34789  |1345789  134578  134579 | 13569  1345689   145   \n",
      " 45789     57    34789  |1345789  134578    6    |   2      1345   14589  \n",
      " 45689   35689     1    | 34589   23458   23459  |   35      7     45689  \n",
      "------------------------+------------------------+------------------------\n",
      " 14579   12579     6    |  457    123457    8    |  1359   12359    1259  \n",
      "   3      1258    248   |  145      9      1245  |  156    12568     7    \n",
      " 15789   125789   2789  |   6     12357     57   |   4     123589  12589  \n",
      "------------------------+------------------------+------------------------\n",
      "  1679     4      237   | 13579   13567   13579  |   8     12569   12569  \n",
      " 16789    137      5    |   2     134678  13479  |  1679     46     1469  \n",
      "   17    126789   2789  | 145789  145678  14579  | 15679   124569    3    \n",
      "None\n",
      "------------------------------------------------------------------------\n",
      "ELIMINATE & ONLY CHOICE\n",
      "   2     356789  34789  |1345789  134578  134579 | 13569  1345689   145   \n",
      " 45789     57    34789  |1345789  134578    6    |   2      1345   14589  \n",
      " 45689   35689     1    | 34589   23458   23459  |   35      7     45689  \n",
      "------------------------+------------------------+------------------------\n",
      " 14579   12579     6    |  457    123457    8    |  1359   12359    1259  \n",
      "   3      1258    248   |  145      9      1245  |  156    12568     7    \n",
      " 15789   125789   2789  |   6     12357     57   |   4     123589  12589  \n",
      "------------------------+------------------------+------------------------\n",
      "  1679     4       2    | 13579   13567   13579  |   8     12569   12569  \n",
      " 16789    137      5    |   2     134678  13479  |  1679     6      1469  \n",
      "   17    126789   2789  | 145789  145678  14579  | 15679   124569    3    \n",
      "None\n",
      "------------------------------------------------------------------------\n"
     ]
    }
   ],
   "source": [
    "print('CLEAN DATA')\n",
    "print(display(clean_data))\n",
    "print('-------------------------------------------------------------------------')\n",
    "print('EliMINATE')\n",
    "print(display(eliminate(data)))\n",
    "print('------------------------------------------------------------------------')\n",
    "print('ELIMINATE & ONLY CHOICE')\n",
    "print(display(only_choice(eliminate(data))))\n",
    "print('------------------------------------------------------------------------')\n"
   ]
  },
  {
   "cell_type": "code",
   "execution_count": 50,
   "metadata": {
    "collapsed": false
   },
   "outputs": [
    {
     "name": "stdout",
     "output_type": "stream",
     "text": [
      "Eliminate\n",
      "   4      8      3   |   9      2      1   |   6     5789    5   \n",
      "   9      6     247  |   3      4      5   |   8      8      1   \n",
      "   25    257     1   |   8      7      6   |   4    23579   2357 \n",
      "---------------------+---------------------+---------------------\n",
      "  1345   1345    8   |         3456    2   |   9    134567 34567 \n",
      "   7      2      9   |   5      3      1   |   1    13456    8   \n",
      "  1345  13459    6   |   7     3459    8   |   2     1345   345  \n",
      "---------------------+---------------------+---------------------\n",
      "  1234  12347        |   6      8      9   |   5    12478   247  \n",
      "   8      1      47  |   2      5      3   |   17     7      9   \n",
      "   6      9      5   |   4      1      7   |   3      8      2   \n",
      "None\n",
      "----------------------------------------------------------------\n",
      "----------------------------------------------------------------\n",
      "----------------------------------------------------------------\n",
      "twins after eminate\n",
      "   4      8      3   |   9      2      1   |   6     5789    5   \n",
      "   9      6      2   |   3      4      5   |   8      8      1   \n",
      "   25     7      1   |   8      7      6   |   4    23579   2357 \n",
      "---------------------+---------------------+---------------------\n",
      "  1345   1345    8   |         3456    2   |   9    134567 34567 \n",
      "   7      2      9   |   5      3      1   |   1    13456    8   \n",
      "  1345  13459    6   |   7     3459    8   |   2     1345   345  \n",
      "---------------------+---------------------+---------------------\n",
      "  1234   123         |   6      8      9   |   5    12478   247  \n",
      "   8      1      47  |   2      5      3   |   17     7      9   \n",
      "   6      9      5   |   4      1      7   |   3      8      2   \n",
      "None\n"
     ]
    }
   ],
   "source": [
    "print('Eliminate')\n",
    "print(display(eminate))\n",
    "print('----------------------------------------------------------------')\n",
    "print('----------------------------------------------------------------')\n",
    "print('----------------------------------------------------------------')\n",
    "\n",
    "print('twins after eminate')\n",
    "print(display(twins(eminate)))"
   ]
  },
  {
   "cell_type": "code",
   "execution_count": 21,
   "metadata": {
    "collapsed": false,
    "deletable": true,
    "editable": true
   },
   "outputs": [
    {
     "name": "stdout",
     "output_type": "stream",
     "text": [
      "CLEAN BOARD\n",
      ". . 3 |. 2 . |6 . . \n",
      "9 . . |3 . 5 |. . 1 \n",
      ". . 1 |8 . 6 |4 . . \n",
      "------+------+------\n",
      ". . 8 |1 . 2 |9 . . \n",
      "7 . . |. . . |. . 8 \n",
      ". . 6 |7 . 8 |2 . . \n",
      "------+------+------\n",
      ". . 2 |6 . 9 |5 . . \n",
      "8 . . |2 . 3 |. . 9 \n",
      ". . 5 |. 1 . |3 . . \n",
      "None\n",
      "--------------------\n",
      "BOARD\n",
      "123456789 123456789     3     |123456789     2     123456789 |    6     123456789 123456789 \n",
      "    9     123456789 123456789 |    3     123456789     5     |123456789 123456789     1     \n",
      "123456789 123456789     1     |    8     123456789     6     |    4     123456789 123456789 \n",
      "------------------------------+------------------------------+------------------------------\n",
      "123456789 123456789     8     |    1     123456789     2     |    9     123456789 123456789 \n",
      "    7     123456789 123456789 |123456789 123456789 123456789 |123456789 123456789     8     \n",
      "123456789 123456789     6     |    7     123456789     8     |    2     123456789 123456789 \n",
      "------------------------------+------------------------------+------------------------------\n",
      "123456789 123456789     2     |    6     123456789     9     |    5     123456789 123456789 \n",
      "    8     123456789 123456789 |    2     123456789     3     |123456789 123456789     9     \n",
      "123456789 123456789     5     |123456789     1     123456789 |    3     123456789 123456789 \n",
      "None\n"
     ]
    }
   ],
   "source": [
    "print('CLEAN BOARD')\n",
    "print(display(clean_data))\n",
    "print('--------------------')\n",
    "print('BOARD')\n",
    "print(display(data))"
   ]
  },
  {
   "cell_type": "raw",
   "metadata": {
    "collapsed": false,
    "deletable": true,
    "editable": true
   },
   "source": [
    " "
   ]
  },
  {
   "cell_type": "code",
   "execution_count": null,
   "metadata": {
    "collapsed": true
   },
   "outputs": [],
   "source": []
  },
  {
   "cell_type": "code",
   "execution_count": null,
   "metadata": {
    "collapsed": true
   },
   "outputs": [],
   "source": []
  },
  {
   "cell_type": "code",
   "execution_count": null,
   "metadata": {
    "collapsed": true
   },
   "outputs": [],
   "source": []
  },
  {
   "cell_type": "markdown",
   "metadata": {
    "deletable": true,
    "editable": true
   },
   "source": []
  },
  {
   "cell_type": "code",
   "execution_count": null,
   "metadata": {
    "collapsed": true,
    "deletable": true,
    "editable": true
   },
   "outputs": [],
   "source": []
  }
 ],
 "metadata": {
  "kernelspec": {
   "display_name": "Python 3",
   "language": "python",
   "name": "python3"
  },
  "language_info": {
   "codemirror_mode": {
    "name": "ipython",
    "version": 3
   },
   "file_extension": ".py",
   "mimetype": "text/x-python",
   "name": "python",
   "nbconvert_exporter": "python",
   "pygments_lexer": "ipython3",
   "version": "3.6.0"
  }
 },
 "nbformat": 4,
 "nbformat_minor": 2
}
