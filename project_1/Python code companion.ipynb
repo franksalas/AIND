{
 "cells": [
  {
   "cell_type": "code",
   "execution_count": 1,
   "metadata": {
    "collapsed": true
   },
   "outputs": [],
   "source": []
  },
  {
   "cell_type": "markdown",
   "metadata": {},
   "source": [
    "### Long way\n",
    "- create a `new_ist`\n",
    "- create a `for` loop that iterates over the list rows\n",
    "- crate a `for` loop that iterates ovre the cols list\n",
    "- Now we add each ithem and append it to `new_list`\n",
    "- print `new_list`"
   ]
  },
  {
   "cell_type": "code",
   "execution_count": 7,
   "metadata": {},
   "outputs": [
    {
     "data": {
      "text/plain": [
       "['A1',\n",
       " 'A2',\n",
       " 'A3',\n",
       " 'A4',\n",
       " 'A5',\n",
       " 'A6',\n",
       " 'A7',\n",
       " 'A8',\n",
       " 'A9',\n",
       " 'B1',\n",
       " 'B2',\n",
       " 'B3',\n",
       " 'B4',\n",
       " 'B5',\n",
       " 'B6',\n",
       " 'B7',\n",
       " 'B8',\n",
       " 'B9',\n",
       " 'C1',\n",
       " 'C2',\n",
       " 'C3',\n",
       " 'C4',\n",
       " 'C5',\n",
       " 'C6',\n",
       " 'C7',\n",
       " 'C8',\n",
       " 'C9',\n",
       " 'D1',\n",
       " 'D2',\n",
       " 'D3',\n",
       " 'D4',\n",
       " 'D5',\n",
       " 'D6',\n",
       " 'D7',\n",
       " 'D8',\n",
       " 'D9',\n",
       " 'E1',\n",
       " 'E2',\n",
       " 'E3',\n",
       " 'E4',\n",
       " 'E5',\n",
       " 'E6',\n",
       " 'E7',\n",
       " 'E8',\n",
       " 'E9',\n",
       " 'F1',\n",
       " 'F2',\n",
       " 'F3',\n",
       " 'F4',\n",
       " 'F5',\n",
       " 'F6',\n",
       " 'F7',\n",
       " 'F8',\n",
       " 'F9',\n",
       " 'G1',\n",
       " 'G2',\n",
       " 'G3',\n",
       " 'G4',\n",
       " 'G5',\n",
       " 'G6',\n",
       " 'G7',\n",
       " 'G8',\n",
       " 'G9',\n",
       " 'H1',\n",
       " 'H2',\n",
       " 'H3',\n",
       " 'H4',\n",
       " 'H5',\n",
       " 'H6',\n",
       " 'H7',\n",
       " 'H8',\n",
       " 'H9',\n",
       " 'I1',\n",
       " 'I2',\n",
       " 'I3',\n",
       " 'I4',\n",
       " 'I5',\n",
       " 'I6',\n",
       " 'I7',\n",
       " 'I8',\n",
       " 'I9']"
      ]
     },
     "execution_count": 7,
     "metadata": {},
     "output_type": "execute_result"
    }
   ],
   "source": [
    "# long way\n",
    "rows = 'ABCDEFGHI'\n",
    "cols = '123456789'\n",
    "\n",
    "new_list =[]                    # create new temporary list\n",
    "\n",
    "for r in rows:                  # A,B,C,D,E,F,G,H,I\n",
    "    for c in cols:              # 1,2,3,4,5,6,7,8,9\n",
    "        new_list.append(r+c)    # A1, A2, A3... I9\n",
    "new_list"
   ]
  },
  {
   "cell_type": "markdown",
   "metadata": {},
   "source": [
    "### List com way\n",
    "- `r + c`\n",
    "- ` for r in rows`\n",
    "- `for c in cols`\n",
    "\n",
    "```python\n",
    "[r + c for r in rows for c in cols]\n",
    "```\n"
   ]
  },
  {
   "cell_type": "code",
   "execution_count": 8,
   "metadata": {},
   "outputs": [
    {
     "data": {
      "text/plain": [
       "['A1',\n",
       " 'A2',\n",
       " 'A3',\n",
       " 'A4',\n",
       " 'A5',\n",
       " 'A6',\n",
       " 'A7',\n",
       " 'A8',\n",
       " 'A9',\n",
       " 'B1',\n",
       " 'B2',\n",
       " 'B3',\n",
       " 'B4',\n",
       " 'B5',\n",
       " 'B6',\n",
       " 'B7',\n",
       " 'B8',\n",
       " 'B9',\n",
       " 'C1',\n",
       " 'C2',\n",
       " 'C3',\n",
       " 'C4',\n",
       " 'C5',\n",
       " 'C6',\n",
       " 'C7',\n",
       " 'C8',\n",
       " 'C9',\n",
       " 'D1',\n",
       " 'D2',\n",
       " 'D3',\n",
       " 'D4',\n",
       " 'D5',\n",
       " 'D6',\n",
       " 'D7',\n",
       " 'D8',\n",
       " 'D9',\n",
       " 'E1',\n",
       " 'E2',\n",
       " 'E3',\n",
       " 'E4',\n",
       " 'E5',\n",
       " 'E6',\n",
       " 'E7',\n",
       " 'E8',\n",
       " 'E9',\n",
       " 'F1',\n",
       " 'F2',\n",
       " 'F3',\n",
       " 'F4',\n",
       " 'F5',\n",
       " 'F6',\n",
       " 'F7',\n",
       " 'F8',\n",
       " 'F9',\n",
       " 'G1',\n",
       " 'G2',\n",
       " 'G3',\n",
       " 'G4',\n",
       " 'G5',\n",
       " 'G6',\n",
       " 'G7',\n",
       " 'G8',\n",
       " 'G9',\n",
       " 'H1',\n",
       " 'H2',\n",
       " 'H3',\n",
       " 'H4',\n",
       " 'H5',\n",
       " 'H6',\n",
       " 'H7',\n",
       " 'H8',\n",
       " 'H9',\n",
       " 'I1',\n",
       " 'I2',\n",
       " 'I3',\n",
       " 'I4',\n",
       " 'I5',\n",
       " 'I6',\n",
       " 'I7',\n",
       " 'I8',\n",
       " 'I9']"
      ]
     },
     "execution_count": 8,
     "metadata": {},
     "output_type": "execute_result"
    }
   ],
   "source": [
    "[r + c for r in rows for c in cols]  # concatinate r,c for r in rows and for c in cols"
   ]
  },
  {
   "cell_type": "markdown",
   "metadata": {},
   "source": [
    "#### Create a function that joins the two lists"
   ]
  },
  {
   "cell_type": "code",
   "execution_count": 9,
   "metadata": {
    "collapsed": true
   },
   "outputs": [],
   "source": [
    "def cross(a,b):\n",
    "    return[s+t for s in a for t in b]"
   ]
  },
  {
   "cell_type": "markdown",
   "metadata": {},
   "source": [
    "### Boxes\n",
    "**boxes**: individual squares ex. `'A1,'A2'...'I9'`\n"
   ]
  },
  {
   "cell_type": "code",
   "execution_count": 14,
   "metadata": {},
   "outputs": [],
   "source": [
    "boxes = cross(rows, cols)"
   ]
  },
  {
   "cell_type": "markdown",
   "metadata": {},
   "source": [
    "## `row_units`\n",
    "```python\n",
    "row_units[0]\n",
    "['A1', 'A2', 'A3', 'A4', 'A5', 'A6', 'A7', 'A8', 'A9']\n",
    "\n",
    "row_units[1]\n",
    "['B1', 'B2', 'B3', 'B4', 'B5', 'B6', 'B7', 'B8', 'B9']\n",
    "..\n",
    "...\n",
    "row_units[8]\n",
    "['I1', 'I2', 'I3', 'I4', 'I5', 'I6', 'I7', 'I8', 'I9']\n",
    "\n",
    "row_units\n",
    "\n",
    "[['A1', 'A2', 'A3', 'A4', 'A5', 'A6', 'A7', 'A8', 'A9'],\n",
    " ['B1', 'B2', 'B3', 'B4', 'B5', 'B6', 'B7', 'B8', 'B9'],\n",
    " ['C1', 'C2', 'C3', 'C4', 'C5', 'C6', 'C7', 'C8', 'C9'],\n",
    " ['D1', 'D2', 'D3', 'D4', 'D5', 'D6', 'D7', 'D8', 'D9'],\n",
    " ['E1', 'E2', 'E3', 'E4', 'E5', 'E6', 'E7', 'E8', 'E9'],\n",
    " ['F1', 'F2', 'F3', 'F4', 'F5', 'F6', 'F7', 'F8', 'F9'],\n",
    " ['G1', 'G2', 'G3', 'G4', 'G5', 'G6', 'G7', 'G8', 'G9'],\n",
    " ['H1', 'H2', 'H3', 'H4', 'H5', 'H6', 'H7', 'H8', 'H9'],\n",
    " ['I1', 'I2', 'I3', 'I4', 'I5', 'I6', 'I7', 'I8', 'I9']]\n",
    "```\n",
    "\n",
    "## `column_units`\n",
    "\n",
    "\n",
    "```python\n",
    "\n",
    "column_units[0]\n",
    "['A1', 'B1', 'C1', 'D1', 'E1', 'F1', 'G1', 'H1', 'I1']\n",
    "\n",
    "column_units[1]\n",
    "['A2', 'B2', 'C2', 'D2', 'E2', 'F2', 'G2', 'H2', 'I2']\n",
    "..\n",
    "...\n",
    "\n",
    "column_units[8]\n",
    "['A9', 'B9', 'C9', 'D9', 'E9', 'F9', 'G9', 'H9', 'I9']\n",
    "\n",
    "\n",
    "column_units\n",
    "\n",
    "[['A1', 'B1', 'C1', 'D1', 'E1', 'F1', 'G1', 'H1', 'I1'],\n",
    " ['A2', 'B2', 'C2', 'D2', 'E2', 'F2', 'G2', 'H2', 'I2'],\n",
    " ['A3', 'B3', 'C3', 'D3', 'E3', 'F3', 'G3', 'H3', 'I3'],\n",
    " ['A4', 'B4', 'C4', 'D4', 'E4', 'F4', 'G4', 'H4', 'I4'],\n",
    " ['A5', 'B5', 'C5', 'D5', 'E5', 'F5', 'G5', 'H5', 'I5'],\n",
    " ['A6', 'B6', 'C6', 'D6', 'E6', 'F6', 'G6', 'H6', 'I6'],\n",
    " ['A7', 'B7', 'C7', 'D7', 'E7', 'F7', 'G7', 'H7', 'I7'],\n",
    " ['A8', 'B8', 'C8', 'D8', 'E8', 'F8', 'G8', 'H8', 'I8'],\n",
    " ['A9', 'B9', 'C9', 'D9', 'E9', 'F9', 'G9', 'H9', 'I9']]\n",
    "```\n",
    "\n",
    "## `square_units`\n",
    "\n",
    "\n",
    "```python\n",
    "square_units[0]\n",
    "['A1', 'A2', 'A3', 'B1', 'B2', 'B3', 'C1', 'C2', 'C3']\n",
    "\n",
    "square_units[1]\n",
    "['A4', 'A5', 'A6', 'B4', 'B5', 'B6', 'C4', 'C5', 'C6']\n",
    "\n",
    "square_units\n",
    "[['A1', 'A2', 'A3', 'B1', 'B2', 'B3', 'C1', 'C2', 'C3'],\n",
    " ['A4', 'A5', 'A6', 'B4', 'B5', 'B6', 'C4', 'C5', 'C6'],\n",
    " ['A7', 'A8', 'A9', 'B7', 'B8', 'B9', 'C7', 'C8', 'C9'],\n",
    " ['D1', 'D2', 'D3', 'E1', 'E2', 'E3', 'F1', 'F2', 'F3'],\n",
    " ['D4', 'D5', 'D6', 'E4', 'E5', 'E6', 'F4', 'F5', 'F6'],\n",
    " ['D7', 'D8', 'D9', 'E7', 'E8', 'E9', 'F7', 'F8', 'F9'],\n",
    " ['G1', 'G2', 'G3', 'H1', 'H2', 'H3', 'I1', 'I2', 'I3'],\n",
    " ['G4', 'G5', 'G6', 'H4', 'H5', 'H6', 'I4', 'I5', 'I6'],\n",
    " ['G7', 'G8', 'G9', 'H7', 'H8', 'H9', 'I7', 'I8', 'I9']]\n",
    "\n",
    "```\n",
    "\n"
   ]
  },
  {
   "cell_type": "code",
   "execution_count": 15,
   "metadata": {
    "collapsed": true
   },
   "outputs": [],
   "source": [
    "row_units = [cross(r,cols) for r in rows]\n",
    "\n",
    "column_units = [cross(rows,c) for c in cols]\n",
    "\n",
    "square_units = [cross(rs, cs) for rs in ('ABC', 'DEF', 'GHI') for cs in ('123', '456', '789')]\n",
    "\n",
    "\n",
    "unitlist = row_units + column_units + square_units"
   ]
  },
  {
   "cell_type": "code",
   "execution_count": 54,
   "metadata": {},
   "outputs": [],
   "source": [
    "units = dict((s, [u for u in unitlist if s in u])for s in boxes)\n",
    "peers = dict((s, set(sum(units[s], []))- set([s])) for s in boxes)"
   ]
  },
  {
   "cell_type": "markdown",
   "metadata": {},
   "source": [
    "##  units\n",
    "\n",
    "```python\n",
    "units['A1'][0]\n",
    "\n",
    "A1 A2 A3|A4 A5 A6 |A7 A8 A9 \n",
    ". . .   |. . .    |. . . \n",
    ". . .   |. . .    |. . . \n",
    "--------+---------+--------\n",
    ". . .   |. . .    |. . . \n",
    ". . .   |. . .    |. . . \n",
    ". . .   |. . .    |. . . \n",
    "--------+---------+--------\n",
    ". . .   |. . .    |. . . \n",
    ". . .   |. . .    |. . .\n",
    ". . .   |. . .    |. . . \n",
    "\n",
    "\n",
    "units['A1'][1]\n",
    "\n",
    "A1 . .   |. . .    |. . .\n",
    "B1 . .   |. . .    |. . . \n",
    "C1 . .   |. . .    |. . . \n",
    "---------+---------+--------\n",
    "D1 . .   |. . .    |. . . \n",
    "E1 . .   |. . .    |. . . \n",
    "F1 . .   |. . .    |. . . \n",
    "---------+---------+--------\n",
    "G1 . .   |. . .    |. . . \n",
    "H1 . .   |. . .    |. . .\n",
    "I1 . .   |. . .    |. . . \n",
    "\n",
    "\n",
    "\n",
    "units['A1'][2]\n",
    "\n",
    "A1 A2 A3 |. . .    |. . . \n",
    "B1 B2 B3 |. . .    |. . . \n",
    "C1 C2 C3 |. . .    |. . . \n",
    "---------+---------+--------\n",
    ". . .    |. . .    |. . . \n",
    ". . .    |. . .    |. . . \n",
    ". . .    |. . .    |. . . \n",
    "---------+---------+--------\n",
    ". . .    |. . .    |. . . \n",
    ". . .    |. . .    |. . .\n",
    ". . .    |. . .    |. . . \n",
    "\n",
    "\n",
    "\n",
    "```\n",
    "\n",
    "## `peers`\n",
    "\n",
    "\n",
    "```python\n",
    "\n",
    "peers['A1']\n",
    "\n",
    ".  A2 A3 |A4 A5 A6 |A7 A8 A9 \n",
    "B1 B2 B3 |. . .    |. . . \n",
    "C1 C2 C3 |. . .    |. . . \n",
    "---------+---------+--------\n",
    "D1 . .   |. . .    |. . . \n",
    "E1 . .   |. . .    |. . . \n",
    "F1 . .   |. . .    |. . . \n",
    "---------+---------+--------\n",
    "G1 . .   |. . .    |. . . \n",
    "H1 . .   |. . .    |. . .\n",
    "IJ . .   |. . .    |. . . \n",
    "\n",
    "\n",
    "\n",
    "\n",
    "\n",
    ". . . |. . . |. . . \n",
    ". . . |. . . |. . . \n",
    ". . . |. . . |. . . \n",
    "------+------+------\n",
    ". . . |. . . |. . . \n",
    ". . . |. . . |. . . \n",
    ". . . |. . . |. . . \n",
    "------+------+------\n",
    ". . . |. . . |. . . \n",
    ". . . |. . . |. . .\n",
    ". . . |. . . |. . . \n",
    "\n",
    "```\n"
   ]
  },
  {
   "cell_type": "code",
   "execution_count": null,
   "metadata": {},
   "outputs": [],
   "source": []
  },
  {
   "cell_type": "code",
   "execution_count": 79,
   "metadata": {},
   "outputs": [
    {
     "data": {
      "text/plain": [
       "['A1', 'B2', 'C3', 'D4', 'E5', 'F6', 'G7', 'H8', 'I9']"
      ]
     },
     "execution_count": 79,
     "metadata": {},
     "output_type": "execute_result"
    }
   ],
   "source": [
    "[row_units[i][i] for i in range(len(row_units))]  # Diagonal Top left to bottom right"
   ]
  },
  {
   "cell_type": "code",
   "execution_count": 80,
   "metadata": {},
   "outputs": [
    {
     "data": {
      "text/plain": [
       "['A9', 'B8', 'C7', 'D6', 'E5', 'F4', 'G3', 'H2', 'I1']"
      ]
     },
     "execution_count": 80,
     "metadata": {},
     "output_type": "execute_result"
    }
   ],
   "source": [
    "[row_units[i][len(row_units)-1-i] for i in range(len(row_units))]  # Diagonal from top right bottom left"
   ]
  },
  {
   "cell_type": "code",
   "execution_count": null,
   "metadata": {
    "collapsed": true
   },
   "outputs": [],
   "source": []
  }
 ],
 "metadata": {
  "kernelspec": {
   "display_name": "Python 3",
   "language": "python",
   "name": "python3"
  },
  "language_info": {
   "codemirror_mode": {
    "name": "ipython",
    "version": 3
   },
   "file_extension": ".py",
   "mimetype": "text/x-python",
   "name": "python",
   "nbconvert_exporter": "python",
   "pygments_lexer": "ipython3",
   "version": "3.6.1"
  }
 },
 "nbformat": 4,
 "nbformat_minor": 2
}
