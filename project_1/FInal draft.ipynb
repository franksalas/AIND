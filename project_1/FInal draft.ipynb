{
 "cells": [
  {
   "cell_type": "code",
   "execution_count": 1,
   "metadata": {
    "collapsed": true,
    "deletable": true,
    "editable": true
   },
   "outputs": [],
   "source": [
    "assignments = []\n",
    "rows = 'ABCDEFGHI'\n",
    "cols = '123456789'"
   ]
  },
  {
   "cell_type": "code",
   "execution_count": 2,
   "metadata": {
    "collapsed": true,
    "deletable": true,
    "editable": true
   },
   "outputs": [],
   "source": [
    "def assign_value(values, box, value):\n",
    "    \"\"\"\n",
    "    Please use this function to update your values dictionary!\n",
    "    Assigns a value to a given box. If it updates the board record it.\n",
    "    \"\"\"\n",
    "\n",
    "    # Don't waste memory appending actions that don't actually change any values\n",
    "    if values[box] == value:\n",
    "        return values\n",
    "\n",
    "    values[box] = value\n",
    "    if len(value) == 1:\n",
    "        assignments.append(values.copy())\n",
    "    return values"
   ]
  },
  {
   "cell_type": "code",
   "execution_count": 3,
   "metadata": {
    "collapsed": true,
    "deletable": true,
    "editable": true
   },
   "outputs": [],
   "source": [
    "def naked_twins(values):\n",
    "    \"\"\"Eliminate values using the naked twins strategy.\n",
    "    Args:\n",
    "        values(dict): a dictionary of the form {'box_name': '123456789', ...}\n",
    "\n",
    "    Returns:\n",
    "        the values dictionary with the naked twins eliminated from peers.\n",
    "    \"\"\"\n",
    "\n",
    "    # Find all instances of naked twins\n",
    "    # Eliminate the naked twins as possibilities for their peers"
   ]
  },
  {
   "cell_type": "code",
   "execution_count": 4,
   "metadata": {
    "collapsed": true,
    "deletable": true,
    "editable": true
   },
   "outputs": [],
   "source": [
    "# working\n",
    "def cross(A, B):\n",
    "    '''Cross product of elements in A and elements in B.'''\n",
    "\n",
    "    return [s + t for s in A for t in B]\n",
    "\n",
    "\n",
    "boxes = cross(rows, cols)\n",
    "row_units = [cross(r, cols) for r in rows]\n",
    "column_units = [cross(rows, c) for c in cols]\n",
    "square_units = [cross(rs, cs) for rs in ('ABC', 'DEF', 'GHI') for cs in ('123', '456', '789')]\n",
    "unitlist = row_units + column_units + square_units\n",
    "units = dict((s, [u for u in unitlist if s in u]) for s in boxes)\n",
    "peers = dict((s, set(sum(units[s], [])) - set([s])) for s in boxes)"
   ]
  },
  {
   "cell_type": "code",
   "execution_count": 5,
   "metadata": {
    "collapsed": true,
    "deletable": true,
    "editable": true
   },
   "outputs": [],
   "source": [
    "# working\n",
    "def grid_values(grid):\n",
    "    \"\"\"\n",
    "    Convert grid into a dict of {square: char} with '123456789' for empties.\n",
    "    Args:\n",
    "        grid(string) - A grid in string form.\n",
    "    Returns:\n",
    "        A grid in dictionary form\n",
    "            Keys: The boxes, e.g., 'A1'\n",
    "            Values: The value in each box, e.g., '8'. If the box has no value, then the value will be '123456789'.\n",
    "    \"\"\"\n",
    "    values = []\n",
    "    all_digits = '123456789'\n",
    "    for c in grid:\n",
    "        if c == '.':\n",
    "            values.append(all_digits)\n",
    "        elif c in all_digits:\n",
    "            values.append(c)\n",
    "    assert len(values) == 81\n",
    "    return dict(zip(boxes, values))"
   ]
  },
  {
   "cell_type": "code",
   "execution_count": 6,
   "metadata": {
    "collapsed": true,
    "deletable": true,
    "editable": true
   },
   "outputs": [],
   "source": [
    "# working\n",
    "def display(values):\n",
    "    \"\"\"\n",
    "    Display the values as a 2-D grid.\n",
    "    Args:\n",
    "        values(dict): The sudoku in dictionary form\n",
    "    \"\"\"\n",
    "\n",
    "    width = 1 + max(len(values[s]) for s in boxes)\n",
    "    line = '+'.join(['-' * (width * 3)] * 3)\n",
    "    for r in rows:\n",
    "        print(''.join(values[r + c].center(width) + ('|' if c in '36' else '')\n",
    "                      for c in cols))\n",
    "        if r in 'CF': print(line)\n",
    "    return"
   ]
  },
  {
   "cell_type": "code",
   "execution_count": 7,
   "metadata": {
    "collapsed": true,
    "deletable": true,
    "editable": true
   },
   "outputs": [],
   "source": [
    "# working\n",
    "def eliminate(values):\n",
    "    solved_values = [box for box in values.keys() if len(values[box]) == 1]\n",
    "    for box in solved_values:\n",
    "        digit = values[box]\n",
    "        for peer in peers[box]:\n",
    "            values[peer] = values[peer].replace(digit, '')\n",
    "    return values"
   ]
  },
  {
   "cell_type": "code",
   "execution_count": 8,
   "metadata": {
    "collapsed": true,
    "deletable": true,
    "editable": true
   },
   "outputs": [],
   "source": [
    "# working\n",
    "def only_choice(values):\n",
    "    for unit in unitlist:\n",
    "        for digit in '123456789':\n",
    "            dplaces = [box for box in unit if digit in values[box]]\n",
    "            if len(dplaces) == 1:\n",
    "                values[dplaces[0]] = digit\n",
    "    return values"
   ]
  },
  {
   "cell_type": "code",
   "execution_count": 9,
   "metadata": {
    "collapsed": true,
    "deletable": true,
    "editable": true
   },
   "outputs": [],
   "source": [
    "# working\n",
    "def reduce_puzzle(values):\n",
    "    stalled = False\n",
    "    while not stalled:\n",
    "        # Check how many boxes have a determined value\n",
    "        solved_values_before = len([box for box in values.keys() if len(values[box]) == 1])\n",
    "        # Use the Eliminate Strategy\n",
    "        values = eliminate(values)\n",
    "        # Use the Only Choice Strategy\n",
    "        values = only_choice(values)\n",
    "        # Check how many boxes have a determined value, to compare\n",
    "        solved_values_after = len([box for box in values.keys() if len(values[box]) == 1])\n",
    "        # If no new values were added, stop the loop.\n",
    "        stalled = solved_values_before == solved_values_after\n",
    "        # Sanity check, return False if there is a box with zero available values:\n",
    "        if len([box for box in values.keys() if len(values[box]) == 0]):\n",
    "            return False\n",
    "    return values"
   ]
  },
  {
   "cell_type": "code",
   "execution_count": 10,
   "metadata": {
    "collapsed": true,
    "deletable": true,
    "editable": true
   },
   "outputs": [],
   "source": [
    "# working\n",
    "def search(values):\n",
    "    values = reduce_puzzle(values)\n",
    "    if values is False:\n",
    "        return False  ## Failed earlier\n",
    "    if all(len(values[s]) == 1 for s in boxes):\n",
    "        return values  ## Solved!\n",
    "    # Choose one of the unfilled squares with the fewest possibilities\n",
    "    n, s = min((len(values[s]), s) for s in boxes if len(values[s]) > 1)\n",
    "    # Now use recurrence to solve each one of the resulting sudokus, and\n",
    "    for value in values[s]:\n",
    "        new_sudoku = values.copy()\n",
    "        new_sudoku[s] = value\n",
    "        attempt = search(new_sudoku)\n",
    "        if attempt:\n",
    "            return attempt"
   ]
  },
  {
   "cell_type": "code",
   "execution_count": 16,
   "metadata": {
    "collapsed": true,
    "deletable": true,
    "editable": true
   },
   "outputs": [],
   "source": [
    "def solve(grid):\n",
    "    \"\"\"\n",
    "    Find the solution to a Sudoku grid.\n",
    "    Args:\n",
    "        grid(string): a string representing a sudoku grid.\n",
    "            Example: '2.............62....1....7...6..8...3...9...7...6..4...4....8....52.............3'\n",
    "    Returns:\n",
    "        The dictionary representation of the final sudoku grid. False if no solution exists.\n",
    "    \"\"\"\n",
    "\n",
    "#     values = grid_values(grid)\n",
    "#     for i in values:\n",
    "#         print(values[i])\n",
    "\n",
    "    values = grid_values(grid)\n",
    "    \n",
    "    #assign_value(values)\n",
    "    values = reduce_puzzle(values)\n",
    "    values = search(values)\n",
    "    return values"
   ]
  },
  {
   "cell_type": "code",
   "execution_count": 18,
   "metadata": {
    "collapsed": false,
    "deletable": true,
    "editable": true
   },
   "outputs": [
    {
     "name": "stdout",
     "output_type": "stream",
     "text": [
      "    2     123456789 123456789 |123456789 123456789 123456789 |123456789 123456789 123456789 \n",
      "123456789 123456789 123456789 |123456789 123456789     6     |    2     123456789 123456789 \n",
      "123456789 123456789     1     |123456789 123456789 123456789 |123456789     7     123456789 \n",
      "------------------------------+------------------------------+------------------------------\n",
      "123456789 123456789     6     |123456789 123456789     8     |123456789 123456789 123456789 \n",
      "    3     123456789 123456789 |123456789     9     123456789 |123456789 123456789     7     \n",
      "123456789 123456789 123456789 |    6     123456789 123456789 |    4     123456789 123456789 \n",
      "------------------------------+------------------------------+------------------------------\n",
      "123456789     4     123456789 |123456789 123456789 123456789 |    8     123456789 123456789 \n",
      "123456789 123456789     5     |    2     123456789 123456789 |123456789 123456789 123456789 \n",
      "123456789 123456789 123456789 |123456789 123456789 123456789 |123456789 123456789     3     \n",
      "2 3 9 |8 7 4 |1 5 6 \n",
      "7 5 4 |3 1 6 |2 9 8 \n",
      "6 8 1 |9 5 2 |3 7 4 \n",
      "------+------+------\n",
      "4 7 6 |1 2 8 |5 3 9 \n",
      "3 1 2 |4 9 5 |6 8 7 \n",
      "5 9 8 |6 3 7 |4 1 2 \n",
      "------+------+------\n",
      "1 4 3 |7 6 9 |8 2 5 \n",
      "9 6 5 |2 8 3 |7 4 1 \n",
      "8 2 7 |5 4 1 |9 6 3 \n",
      "We could not visualize your board due to a pygame issue. Not a problem! It is not a requirement.\n"
     ]
    }
   ],
   "source": [
    "if __name__ == '__main__':\n",
    "\n",
    "    easy = '..3.2.6..9..3.5..1..18.64....81.29..7.......8..67.82....26.95..8..2.3..9..5.1.3..'\n",
    "    medium = '4.....8.5.3..........7......2.....6.....8.4......1.......6.3.7.5..2.....1.4......'\n",
    "    hard = '2.............62....1....7...6..8...3...9...7...6..4...4....8....52.............3'\n",
    "\n",
    "\n",
    "    # print(\"ELIMINATE\")\n",
    "    # display(eliminate(grid_values(easy)))\n",
    "    # print(\"ONLY choice and eliminate\")\n",
    "    # display(only_choice(eliminate(grid_values(easy))))\n",
    "    # print(\"REduced puzzle\")\n",
    "    # display(reduce_puzzle(grid_values(easy)))\n",
    "    # print(\"no search\")\n",
    "    # display(reduce_puzzle(grid_values(hard)))\n",
    "    # print('SEARCH')\n",
    "    # display(search(reduce_puzzle(grid_values(hard))))\n",
    "\n",
    "    diag_sudoku_grid = '2.............62....1....7...6..8...3...9...7...6..4...4....8....52.............3'\n",
    "    display(grid_values(diag_sudoku_grid))\n",
    "    display(solve(diag_sudoku_grid))\n",
    "    #print(solve(easy))\n",
    "\n",
    "    try:\n",
    "        from visualize import visualize_assignments\n",
    "\n",
    "        visualize_assignments(assignments)\n",
    "\n",
    "    except SystemExit:\n",
    "        pass\n",
    "    except:\n",
    "        print('We could not visualize your board due to a pygame issue. Not a problem! It is not a requirement.')"
   ]
  },
  {
   "cell_type": "code",
   "execution_count": null,
   "metadata": {
    "collapsed": true,
    "deletable": true,
    "editable": true
   },
   "outputs": [],
   "source": []
  },
  {
   "cell_type": "code",
   "execution_count": null,
   "metadata": {
    "collapsed": true,
    "deletable": true,
    "editable": true
   },
   "outputs": [],
   "source": []
  },
  {
   "cell_type": "code",
   "execution_count": null,
   "metadata": {
    "collapsed": true,
    "deletable": true,
    "editable": true
   },
   "outputs": [],
   "source": []
  },
  {
   "cell_type": "code",
   "execution_count": null,
   "metadata": {
    "collapsed": true,
    "deletable": true,
    "editable": true
   },
   "outputs": [],
   "source": []
  }
 ],
 "metadata": {
  "kernelspec": {
   "display_name": "Python 3",
   "language": "python",
   "name": "python3"
  },
  "language_info": {
   "codemirror_mode": {
    "name": "ipython",
    "version": 3
   },
   "file_extension": ".py",
   "mimetype": "text/x-python",
   "name": "python",
   "nbconvert_exporter": "python",
   "pygments_lexer": "ipython3",
   "version": "3.6.0"
  }
 },
 "nbformat": 4,
 "nbformat_minor": 2
}
