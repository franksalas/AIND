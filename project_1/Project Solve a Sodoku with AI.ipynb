{
 "cells": [
  {
   "cell_type": "code",
   "execution_count": 1,
   "metadata": {
    "collapsed": true
   },
   "outputs": [],
   "source": [
    "from IPython.display import display, HTML"
   ]
  },
  {
   "cell_type": "markdown",
   "metadata": {},
   "source": [
    "## 3.Setting up the board\n",
    "\n",
    "### Naming conventions\n",
    "#### Rows and Columns\n",
    "- Rows will be labelled by the letters A,B,C,D,E,F,G,H\n",
    "- Columns will be labelled by the numbers 1,2,3,4,5,6,7,8,9\n",
    "\n",
    "#### Boxes, Units and Peers\n",
    "- **boxes**: individual squares ex. `'A1,'A2'...'I9'`\n",
    "- **units**: complete rows, columns, and $3x3$ squares\n",
    "- **peers**: all the other boxes that belong to a common unit ie peers of`A1'.."
   ]
  },
  {
   "cell_type": "markdown",
   "metadata": {},
   "source": [
    "## 4. Encoding the Board\""
   ]
  },
  {
   "cell_type": "code",
   "execution_count": null,
   "metadata": {
    "collapsed": true
   },
   "outputs": [],
   "source": [
    "rows = 'ABCDEFGHI'\n",
    "cols = '123456789'"
   ]
  },
  {
   "cell_type": "code",
   "execution_count": null,
   "metadata": {
    "collapsed": true
   },
   "outputs": [],
   "source": [
    "def cross(a,b):\n",
    "    return[s+t for s in a for t in b]"
   ]
  },
  {
   "cell_type": "code",
   "execution_count": null,
   "metadata": {
    "collapsed": true
   },
   "outputs": [],
   "source": [
    "boxes = cross(rows, cols)"
   ]
  },
  {
   "cell_type": "code",
   "execution_count": null,
   "metadata": {
    "collapsed": false
   },
   "outputs": [],
   "source": [
    "row_units = [cross(r,cols) for r in rows]\n",
    "\n",
    "column_units = [cross(rows,c) for c in cols]\n",
    "\n",
    "square_units = [cross(rs, cs) for rs in ('ABC', 'DEF', 'GHI') for cs in ('123', '456', '789')]\n",
    "\n",
    "\n",
    "unitlist = row_units + column_units + square_units"
   ]
  },
  {
   "cell_type": "code",
   "execution_count": null,
   "metadata": {
    "collapsed": false
   },
   "outputs": [],
   "source": [
    "units = dict((s, [u for u in unitlist if s in u])for s in boxes)\n",
    "\n",
    "peers = dict((s, set(sum(units[s], []))- set([s])) for s in boxes)"
   ]
  },
  {
   "cell_type": "code",
   "execution_count": null,
   "metadata": {
    "collapsed": false
   },
   "outputs": [],
   "source": [
    "def display(values):\n",
    "    '''\n",
    "    Display the values as 2D grid.\n",
    "    input: The sodoku in dictionary form\n",
    "    output: None\n",
    "    '''\n",
    "    width = 1+ max(len(values[s]) for s in boxes)\n",
    "    line = '+'.join(['-'*(width*3)]*3)\n",
    "    for r in rows:\n",
    "        print(''.join(values[r + c].center(width) + ('|' if c in '36' else '')\n",
    "                     for c in cols))\n",
    "        if r in 'CF': \n",
    "            print(line)\n",
    "    return      "
   ]
  },
  {
   "cell_type": "markdown",
   "metadata": {},
   "source": [
    "### `grid_values()`"
   ]
  },
  {
   "cell_type": "code",
   "execution_count": null,
   "metadata": {
    "collapsed": true
   },
   "outputs": [],
   "source": [
    "def grid_values(grid):\n",
    "    '''\n",
    "    convert grid string into {<box>: <val>} dict with '.' values for emplties\n",
    "    \n",
    "    args:\n",
    "        grid: Sudoku grid in string form, 81 chars long\n",
    "    returns:\n",
    "        Sudou grid indict form:\n",
    "            - key: Box labels, eg 'A1'\n",
    "            - val: value in correstonidgn box, e.g '8', or '.' if empty.\n",
    "    '''\n",
    "    \n",
    "    assert len(grid) == 81 # input grid must be a string of length 81 (9x9)\n",
    "    return dict(zip(boxes, grid))"
   ]
  },
  {
   "cell_type": "markdown",
   "metadata": {},
   "source": [
    "#### TEST"
   ]
  },
  {
   "cell_type": "code",
   "execution_count": null,
   "metadata": {
    "collapsed": false
   },
   "outputs": [],
   "source": [
    "display(grid_values('..3.2.6..9..3.5..1..18.64....81.29..7.......8..67.82....26.95..8..2.3..9..5.1.3..'))\n"
   ]
  },
  {
   "cell_type": "markdown",
   "metadata": {},
   "source": [
    "---\n",
    "## 5 strategy 1. Emimination\n",
    "#### If a box has a value assigned, then non of the peers of this box can have this value"
   ]
  },
  {
   "cell_type": "markdown",
   "metadata": {},
   "source": []
  },
  {
   "cell_type": "markdown",
   "metadata": {},
   "source": []
  },
  {
   "cell_type": "code",
   "execution_count": 4,
   "metadata": {
    "collapsed": false
   },
   "outputs": [
    {
     "data": {
      "text/html": [
       "\n",
       "<img src=\"images/reduce-values.png\"   align=left width=\"41%\">\n",
       "<img src=\"images/values-easy.png\"   align=left width=\"41%\">\n"
      ],
      "text/plain": [
       "<IPython.core.display.HTML object>"
      ]
     },
     "metadata": {},
     "output_type": "display_data"
    }
   ],
   "source": [
    "display(HTML('''\n",
    "<img src=\"images/reduce-values.png\"   align=left width=\"41%\">\n",
    "<img src=\"images/values-easy.png\"   align=left width=\"41%\">\n",
    "'''))"
   ]
  },
  {
   "cell_type": "markdown",
   "metadata": {},
   "source": [
    "#### CODE\n",
    "new `grid_values()` function that changes the empty slot into a string of `'123456789'`"
   ]
  },
  {
   "cell_type": "code",
   "execution_count": null,
   "metadata": {
    "collapsed": false
   },
   "outputs": [],
   "source": [
    "def grid_values(grid):\n",
    "    '''\n",
    "    Convert grid string into {<box>: <value>} dict with '123456789' values for empties\n",
    "    \n",
    "    args:\n",
    "        grid: Sudoku grid in string form, 81 chars long\n",
    "    returns:\n",
    "        sudoku grid in dic form:\n",
    "        - key: box labels ex. 'A1\n",
    "        - val: Value in correspinind box, ex. '8' or '123456789' if it is empty.\n",
    "    '''\n",
    "    values = []\n",
    "    all_digits = '123456789'\n",
    "    for c in grid:\n",
    "        if c =='.':\n",
    "            values.append(all_digits)\n",
    "        elif c in all_digits:\n",
    "            values.append(c)\n",
    "    assert len(values) == 81\n",
    "    return dict(zip(boxes, values))\n",
    "    \n"
   ]
  },
  {
   "cell_type": "markdown",
   "metadata": {},
   "source": [
    "#### TEST"
   ]
  },
  {
   "cell_type": "code",
   "execution_count": null,
   "metadata": {
    "collapsed": false
   },
   "outputs": [],
   "source": [
    "display(grid_values('..3.2.6..9..3.5..1..18.64....81.29..7.......8..67.82....26.95..8..2.3..9..5.1.3..'))\n"
   ]
  },
  {
   "cell_type": "code",
   "execution_count": null,
   "metadata": {
    "collapsed": false
   },
   "outputs": [],
   "source": [
    "solution = grid_values('..3.2.6..9..3.5..1..18.64....81.29..7.......8..67.82....26.95..8..2.3..9..5.1.3..')\n",
    "solution"
   ]
  },
  {
   "cell_type": "markdown",
   "metadata": {},
   "source": [
    "### Imlement `eliminate()`\n",
    "Now we will implement eliminate"
   ]
  },
  {
   "cell_type": "code",
   "execution_count": null,
   "metadata": {
    "collapsed": true
   },
   "outputs": [],
   "source": [
    "def eliminate(values):\n",
    "    '''\n",
    "    Eliminate values from peers of each box with a single value.\n",
    "    \n",
    "    Go throug all the boxes, and whenever there is a box with a single value,\n",
    "    eliminate this value form the set of values of all its peers.\n",
    "    \n",
    "    args:\n",
    "        values: sudoku in dict form\n",
    "    returs:\n",
    "        resulting sudoju in dict form after eliminating values.\n",
    "    '''\n",
    "    \n",
    "    solved_values = [box for box in values.keys() if len(values[box]) == 1]\n",
    "    for box in solved_values:\n",
    "        digit = values[box]\n",
    "        for peer in peers[box]:\n",
    "            values[peer] = values[peer].replace(digit, '')\n",
    "    return values"
   ]
  },
  {
   "cell_type": "markdown",
   "metadata": {},
   "source": [
    "#### TEST"
   ]
  },
  {
   "cell_type": "code",
   "execution_count": null,
   "metadata": {
    "collapsed": false
   },
   "outputs": [],
   "source": [
    "eliminate(solution)"
   ]
  },
  {
   "cell_type": "markdown",
   "metadata": {},
   "source": [
    "#### oooorrr,,\n",
    "```python\n",
    "{\n",
    " 'A1': '45','A2': '4578','A3': '3','A4': '49','A5': '2','A6': '147','A7': '6','A8': '5789','A9': '57',\n",
    " 'B1': '9','B2': '24678','B3': '47','B4': '3','B5': '47','B6': '5','B7': '78','B8': '278','B9': '1',\n",
    " 'C1': '25','C2': '257','C3': '1','C4': '8','C5': '79','C6': '6','C7': '4','C8': '23579','C9': '2357',\n",
    " 'D1': '345','D2': '345','D3': '8','D4': '1','D5': '3456','D6': '2','D7': '9','D8': '34567','D9': '34567',\n",
    " 'E1': '7','E2': '123459','E3': '49','E4': '459','E5': '34569','E6': '4','E7': '1','E8': '13456','E9': '8',\n",
    " 'F1': '1345','F2': '13459','F3': '6','F4': '7','F5': '3459','F6': '8','F7': '2','F8': '1345','F9': '345',\n",
    " 'G1': '134','G2': '1347','G3': '2','G4': '6','G5': '478','G6': '9','G7': '5','G8': '1478','G9': '47',\n",
    " 'H1': '8','H2': '1467','H3': '47','H4': '2','H5': '457','H6': '3','H7': '17','H8': '1467','H9': '9',\n",
    " 'I1': '46','I2': '4679','I3': '5','I4': '4','I5': '1','I6': '47','I7': '3','I8': '24678','I9': '2467'\n",
    " }\n",
    "\n",
    "```"
   ]
  },
  {
   "cell_type": "code",
   "execution_count": 5,
   "metadata": {
    "collapsed": false
   },
   "outputs": [
    {
     "data": {
      "text/html": [
       "\n",
       "<img src=\"images/values-easy.png\"   align=left width=\"41%\">\n"
      ],
      "text/plain": [
       "<IPython.core.display.HTML object>"
      ]
     },
     "metadata": {},
     "output_type": "display_data"
    }
   ],
   "source": [
    "display(HTML('''\n",
    "<img src=\"images/values-easy.png\"   align=left width=\"41%\">\n",
    "'''))"
   ]
  },
  {
   "cell_type": "markdown",
   "metadata": {},
   "source": [
    "## 6. Strategy 2: Only Choice"
   ]
  },
  {
   "cell_type": "code",
   "execution_count": 7,
   "metadata": {
    "collapsed": false
   },
   "outputs": [
    {
     "data": {
      "text/html": [
       "\n",
       "<img src=\"images/values-easy.png\"   align=left width=\"40%\">\n",
       "<img src=\"images/highlighted-unit.png\"   align=left width=\"40%\">\n"
      ],
      "text/plain": [
       "<IPython.core.display.HTML object>"
      ]
     },
     "metadata": {},
     "output_type": "display_data"
    }
   ],
   "source": [
    "display(HTML('''\n",
    "<img src=\"images/values-easy.png\"   align=left width=\"40%\">\n",
    "<img src=\"images/highlighted-unit.png\"   align=left width=\"40%\">\n",
    "'''))"
   ]
  },
  {
   "cell_type": "markdown",
   "metadata": {},
   "source": [
    "### Strategy 2: Only Choice"
   ]
  }
 ],
 "metadata": {
  "kernelspec": {
   "display_name": "Python 3",
   "language": "python",
   "name": "python3"
  },
  "language_info": {
   "codemirror_mode": {
    "name": "ipython",
    "version": 3
   },
   "file_extension": ".py",
   "mimetype": "text/x-python",
   "name": "python",
   "nbconvert_exporter": "python",
   "pygments_lexer": "ipython3",
   "version": "3.6.0"
  }
 },
 "nbformat": 4,
 "nbformat_minor": 2
}
