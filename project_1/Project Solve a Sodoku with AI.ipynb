{
 "cells": [
  {
   "cell_type": "code",
   "execution_count": 3,
   "metadata": {
    "collapsed": true
   },
   "outputs": [],
   "source": [
    "from IPython.display import display, HTML"
   ]
  },
  {
   "cell_type": "markdown",
   "metadata": {},
   "source": [
    "## 3.Setting up the board\n",
    "\n",
    "### Naming conventions\n",
    "#### Rows and Columns\n",
    "- Rows will be labelled by the letters A,B,C,D,E,F,G,H\n",
    "- Columns will be labelled by the numbers 1,2,3,4,5,6,7,8,9\n",
    "\n",
    "#### Boxes, Units and Peers\n",
    "- **boxes**: individual squares ex. `'A1,'A2'...'I9'`\n",
    "- **units**: complete rows, columns, and $3x3$ squares\n",
    "- **peers**: all the other boxes that belong to a common unit ie peers of`A1'.."
   ]
  },
  {
   "cell_type": "markdown",
   "metadata": {},
   "source": [
    "## 4. Encoding the Board\""
   ]
  },
  {
   "cell_type": "code",
   "execution_count": 1,
   "metadata": {
    "collapsed": true
   },
   "outputs": [],
   "source": [
    "rows = 'ABCDEFGHI'\n",
    "cols = '123456789'\n"
   ]
  },
  {
   "cell_type": "code",
   "execution_count": 2,
   "metadata": {
    "collapsed": true
   },
   "outputs": [],
   "source": [
    "def cross(a,b):\n",
    "    return[s+t for s in a for t in b]"
   ]
  },
  {
   "cell_type": "code",
   "execution_count": 3,
   "metadata": {
    "collapsed": true
   },
   "outputs": [],
   "source": [
    "boxes = cross(rows, cols)"
   ]
  },
  {
   "cell_type": "code",
   "execution_count": 6,
   "metadata": {
    "collapsed": false
   },
   "outputs": [],
   "source": [
    "row_units = [cross(r,cols) for r in rows]\n",
    "\n",
    "column_units = [cross(rows,c) for c in cols]\n",
    "\n",
    "square_units = [cross(rs, cs) for rs in ('ABC', 'DEF', 'GHI') for cs in ('123', '456', '789')]\n",
    "\n",
    "\n",
    "unitlist = row_units + column_units + square_units"
   ]
  },
  {
   "cell_type": "code",
   "execution_count": 8,
   "metadata": {
    "collapsed": false
   },
   "outputs": [],
   "source": [
    "units = dict((s, [u for u in unitlist if s in u])for s in boxes)\n",
    "\n",
    "peers = dict((s, set(sum(units[s], []))- set([s])) for s in boxes)"
   ]
  },
  {
   "cell_type": "code",
   "execution_count": 13,
   "metadata": {
    "collapsed": false
   },
   "outputs": [],
   "source": [
    "def display(values):\n",
    "    '''\n",
    "    Display the values as 2D grid.\n",
    "    input: The sodoku in dictionary form\n",
    "    output: None\n",
    "    '''\n",
    "    width = 1+ max(len(values[s]) for s in boxes)\n",
    "    line = '+'.join(['-'*(width*3)]*3)\n",
    "    for r in rows:\n",
    "        print(''.join(values[r + c].center(width) + ('|' if c in '36' else '')\n",
    "                     for c in cols))\n",
    "        if r in 'CF': \n",
    "            print(line)\n",
    "    return      "
   ]
  },
  {
   "cell_type": "markdown",
   "metadata": {},
   "source": [
    "### `grid_values()`"
   ]
  },
  {
   "cell_type": "code",
   "execution_count": 14,
   "metadata": {
    "collapsed": true
   },
   "outputs": [],
   "source": [
    "def grid_values(grid):\n",
    "    '''\n",
    "    convert grid string into {<box>: <val>} dict with '.' values for emplties\n",
    "    \n",
    "    args:\n",
    "        grid: Sudoku grid in string form, 81 chars long\n",
    "    returns:\n",
    "        Sudou grid indict form:\n",
    "            - key: Box labels, eg 'A1'\n",
    "            - val: value in correstonidgn box, e.g '8', or '.' if empty.\n",
    "    '''\n",
    "    \n",
    "    assert len(grid) == 81 # input grid must be a string of length 81 (9x9)\n",
    "    return dict(zip(boxes, grid))"
   ]
  },
  {
   "cell_type": "markdown",
   "metadata": {},
   "source": [
    "#### TEST"
   ]
  },
  {
   "cell_type": "code",
   "execution_count": 15,
   "metadata": {
    "collapsed": false
   },
   "outputs": [
    {
     "name": "stdout",
     "output_type": "stream",
     "text": [
      ". . 3 |. 2 . |6 . . \n",
      "9 . . |3 . 5 |. . 1 \n",
      ". . 1 |8 . 6 |4 . . \n",
      "------+------+------\n",
      ". . 8 |1 . 2 |9 . . \n",
      "7 . . |. . . |. . 8 \n",
      ". . 6 |7 . 8 |2 . . \n",
      "------+------+------\n",
      ". . 2 |6 . 9 |5 . . \n",
      "8 . . |2 . 3 |. . 9 \n",
      ". . 5 |. 1 . |3 . . \n"
     ]
    }
   ],
   "source": [
    "display(grid_values('..3.2.6..9..3.5..1..18.64....81.29..7.......8..67.82....26.95..8..2.3..9..5.1.3..'))\n"
   ]
  },
  {
   "cell_type": "markdown",
   "metadata": {},
   "source": [
    "---\n",
    "## 5 strategy 1. Emimination\n",
    "#### If a box has a value assigned, then non of the peers of this box can have this value\n",
    "\n",
    "<img src=\"images/reduce-values.png\" align=left width=\"40%\">\n",
    "\n",
    "<img src=\"images/values-easy.png\"   align=left width=\"41%\">\n",
    "\n"
   ]
  },
  {
   "cell_type": "markdown",
   "metadata": {},
   "source": [
    "![title](images/values-easy.png)\n"
   ]
  },
  {
   "cell_type": "code",
   "execution_count": 4,
   "metadata": {
    "collapsed": false
   },
   "outputs": [
    {
     "data": {
      "text/html": [
       "<img src=\"images/values-easy.png\"   align=left width=\"41%\">"
      ],
      "text/plain": [
       "<IPython.core.display.HTML object>"
      ]
     },
     "metadata": {},
     "output_type": "display_data"
    }
   ],
   "source": [
    "display(HTML('''<img src=\"images/values-easy.png\"   align=left width=\"41%\">'''))"
   ]
  },
  {
   "cell_type": "markdown",
   "metadata": {},
   "source": [
    "#### CODE\n",
    "new `grid_values()` function that changes the empty slot into a string of `'123456789'`"
   ]
  },
  {
   "cell_type": "code",
   "execution_count": 19,
   "metadata": {
    "collapsed": false
   },
   "outputs": [],
   "source": [
    "def grid_values(grid):\n",
    "    '''\n",
    "    Convert grid string into {<box>: <value>} dict with '123456789' values for empties\n",
    "    \n",
    "    args:\n",
    "        grid: Sudoku grid in string form, 81 chars long\n",
    "    returns:\n",
    "        sudoku grid in dic form:\n",
    "        - key: box labels ex. 'A1\n",
    "        - val: Value in correspinind box, ex. '8' or '123456789' if it is empty.\n",
    "    '''\n",
    "    values = []\n",
    "    all_digits = '123456789'\n",
    "    for c in grid:\n",
    "        if c =='.':\n",
    "            values.append(all_digits)\n",
    "        elif c in all_digits:\n",
    "            values.append(c)\n",
    "    assert len(values) == 81\n",
    "    return dict(zip(boxes, values))\n",
    "    \n"
   ]
  },
  {
   "cell_type": "markdown",
   "metadata": {},
   "source": [
    "#### TEST"
   ]
  },
  {
   "cell_type": "code",
   "execution_count": 20,
   "metadata": {
    "collapsed": false
   },
   "outputs": [
    {
     "name": "stdout",
     "output_type": "stream",
     "text": [
      "123456789 123456789     3     |123456789     2     123456789 |    6     123456789 123456789 \n",
      "    9     123456789 123456789 |    3     123456789     5     |123456789 123456789     1     \n",
      "123456789 123456789     1     |    8     123456789     6     |    4     123456789 123456789 \n",
      "------------------------------+------------------------------+------------------------------\n",
      "123456789 123456789     8     |    1     123456789     2     |    9     123456789 123456789 \n",
      "    7     123456789 123456789 |123456789 123456789 123456789 |123456789 123456789     8     \n",
      "123456789 123456789     6     |    7     123456789     8     |    2     123456789 123456789 \n",
      "------------------------------+------------------------------+------------------------------\n",
      "123456789 123456789     2     |    6     123456789     9     |    5     123456789 123456789 \n",
      "    8     123456789 123456789 |    2     123456789     3     |123456789 123456789     9     \n",
      "123456789 123456789     5     |123456789     1     123456789 |    3     123456789 123456789 \n"
     ]
    }
   ],
   "source": [
    "display(grid_values('..3.2.6..9..3.5..1..18.64....81.29..7.......8..67.82....26.95..8..2.3..9..5.1.3..'))\n"
   ]
  },
  {
   "cell_type": "code",
   "execution_count": 35,
   "metadata": {
    "collapsed": false
   },
   "outputs": [
    {
     "data": {
      "text/plain": [
       "{'A1': '123456789',\n",
       " 'A2': '123456789',\n",
       " 'A3': '3',\n",
       " 'A4': '123456789',\n",
       " 'A5': '2',\n",
       " 'A6': '123456789',\n",
       " 'A7': '6',\n",
       " 'A8': '123456789',\n",
       " 'A9': '123456789',\n",
       " 'B1': '9',\n",
       " 'B2': '123456789',\n",
       " 'B3': '123456789',\n",
       " 'B4': '3',\n",
       " 'B5': '123456789',\n",
       " 'B6': '5',\n",
       " 'B7': '123456789',\n",
       " 'B8': '123456789',\n",
       " 'B9': '1',\n",
       " 'C1': '123456789',\n",
       " 'C2': '123456789',\n",
       " 'C3': '1',\n",
       " 'C4': '8',\n",
       " 'C5': '123456789',\n",
       " 'C6': '6',\n",
       " 'C7': '4',\n",
       " 'C8': '123456789',\n",
       " 'C9': '123456789',\n",
       " 'D1': '123456789',\n",
       " 'D2': '123456789',\n",
       " 'D3': '8',\n",
       " 'D4': '1',\n",
       " 'D5': '123456789',\n",
       " 'D6': '2',\n",
       " 'D7': '9',\n",
       " 'D8': '123456789',\n",
       " 'D9': '123456789',\n",
       " 'E1': '7',\n",
       " 'E2': '123456789',\n",
       " 'E3': '123456789',\n",
       " 'E4': '123456789',\n",
       " 'E5': '123456789',\n",
       " 'E6': '123456789',\n",
       " 'E7': '123456789',\n",
       " 'E8': '123456789',\n",
       " 'E9': '8',\n",
       " 'F1': '123456789',\n",
       " 'F2': '123456789',\n",
       " 'F3': '6',\n",
       " 'F4': '7',\n",
       " 'F5': '123456789',\n",
       " 'F6': '8',\n",
       " 'F7': '2',\n",
       " 'F8': '123456789',\n",
       " 'F9': '123456789',\n",
       " 'G1': '123456789',\n",
       " 'G2': '123456789',\n",
       " 'G3': '2',\n",
       " 'G4': '6',\n",
       " 'G5': '123456789',\n",
       " 'G6': '9',\n",
       " 'G7': '5',\n",
       " 'G8': '123456789',\n",
       " 'G9': '123456789',\n",
       " 'H1': '8',\n",
       " 'H2': '123456789',\n",
       " 'H3': '123456789',\n",
       " 'H4': '2',\n",
       " 'H5': '123456789',\n",
       " 'H6': '3',\n",
       " 'H7': '123456789',\n",
       " 'H8': '123456789',\n",
       " 'H9': '9',\n",
       " 'I1': '123456789',\n",
       " 'I2': '123456789',\n",
       " 'I3': '5',\n",
       " 'I4': '123456789',\n",
       " 'I5': '1',\n",
       " 'I6': '123456789',\n",
       " 'I7': '3',\n",
       " 'I8': '123456789',\n",
       " 'I9': '123456789'}"
      ]
     },
     "execution_count": 35,
     "metadata": {},
     "output_type": "execute_result"
    }
   ],
   "source": [
    "solution = grid_values('..3.2.6..9..3.5..1..18.64....81.29..7.......8..67.82....26.95..8..2.3..9..5.1.3..')\n",
    "solution"
   ]
  },
  {
   "cell_type": "markdown",
   "metadata": {},
   "source": [
    "### Imlement `eliminate()`\n",
    "Now we will implement eliminate"
   ]
  },
  {
   "cell_type": "code",
   "execution_count": 38,
   "metadata": {
    "collapsed": true
   },
   "outputs": [],
   "source": [
    "def eliminate(values):\n",
    "    '''\n",
    "    Eliminate values from peers of each box with a single value.\n",
    "    \n",
    "    Go throug all the boxes, and whenever there is a box with a single value,\n",
    "    eliminate this value form the set of values of all its peers.\n",
    "    \n",
    "    args:\n",
    "        values: sudoku in dict form\n",
    "    returs:\n",
    "        resulting sudoju in dict form after eliminating values.\n",
    "    '''\n",
    "    \n",
    "    solved_values = [box for box in values.keys() if len(values[box]) == 1]\n",
    "    for box in solved_values:\n",
    "        digit = values[box]\n",
    "        for peer in peers[box]:\n",
    "            values[peer] = values[peer].replace(digit, '')\n",
    "    return values"
   ]
  },
  {
   "cell_type": "markdown",
   "metadata": {},
   "source": [
    "#### TEST"
   ]
  },
  {
   "cell_type": "code",
   "execution_count": 39,
   "metadata": {
    "collapsed": false
   },
   "outputs": [
    {
     "data": {
      "text/plain": [
       "{'A1': '45',\n",
       " 'A2': '4578',\n",
       " 'A3': '3',\n",
       " 'A4': '49',\n",
       " 'A5': '2',\n",
       " 'A6': '147',\n",
       " 'A7': '6',\n",
       " 'A8': '5789',\n",
       " 'A9': '57',\n",
       " 'B1': '9',\n",
       " 'B2': '24678',\n",
       " 'B3': '47',\n",
       " 'B4': '3',\n",
       " 'B5': '47',\n",
       " 'B6': '5',\n",
       " 'B7': '78',\n",
       " 'B8': '278',\n",
       " 'B9': '1',\n",
       " 'C1': '25',\n",
       " 'C2': '257',\n",
       " 'C3': '1',\n",
       " 'C4': '8',\n",
       " 'C5': '79',\n",
       " 'C6': '6',\n",
       " 'C7': '4',\n",
       " 'C8': '23579',\n",
       " 'C9': '2357',\n",
       " 'D1': '345',\n",
       " 'D2': '345',\n",
       " 'D3': '8',\n",
       " 'D4': '1',\n",
       " 'D5': '3456',\n",
       " 'D6': '2',\n",
       " 'D7': '9',\n",
       " 'D8': '34567',\n",
       " 'D9': '34567',\n",
       " 'E1': '7',\n",
       " 'E2': '123459',\n",
       " 'E3': '49',\n",
       " 'E4': '459',\n",
       " 'E5': '34569',\n",
       " 'E6': '4',\n",
       " 'E7': '1',\n",
       " 'E8': '13456',\n",
       " 'E9': '8',\n",
       " 'F1': '1345',\n",
       " 'F2': '13459',\n",
       " 'F3': '6',\n",
       " 'F4': '7',\n",
       " 'F5': '3459',\n",
       " 'F6': '8',\n",
       " 'F7': '2',\n",
       " 'F8': '1345',\n",
       " 'F9': '345',\n",
       " 'G1': '134',\n",
       " 'G2': '1347',\n",
       " 'G3': '2',\n",
       " 'G4': '6',\n",
       " 'G5': '478',\n",
       " 'G6': '9',\n",
       " 'G7': '5',\n",
       " 'G8': '1478',\n",
       " 'G9': '47',\n",
       " 'H1': '8',\n",
       " 'H2': '1467',\n",
       " 'H3': '47',\n",
       " 'H4': '2',\n",
       " 'H5': '457',\n",
       " 'H6': '3',\n",
       " 'H7': '17',\n",
       " 'H8': '1467',\n",
       " 'H9': '9',\n",
       " 'I1': '46',\n",
       " 'I2': '4679',\n",
       " 'I3': '5',\n",
       " 'I4': '4',\n",
       " 'I5': '1',\n",
       " 'I6': '47',\n",
       " 'I7': '3',\n",
       " 'I8': '24678',\n",
       " 'I9': '2467'}"
      ]
     },
     "execution_count": 39,
     "metadata": {},
     "output_type": "execute_result"
    }
   ],
   "source": [
    "eliminate(solution)"
   ]
  },
  {
   "cell_type": "markdown",
   "metadata": {},
   "source": [
    "#### oooorrr,,\n",
    "```python\n",
    "{\n",
    " 'A1': '45','A2': '4578','A3': '3','A4': '49','A5': '2','A6': '147','A7': '6','A8': '5789','A9': '57',\n",
    " 'B1': '9','B2': '24678','B3': '47','B4': '3','B5': '47','B6': '5','B7': '78','B8': '278','B9': '1',\n",
    " 'C1': '25','C2': '257','C3': '1','C4': '8','C5': '79','C6': '6','C7': '4','C8': '23579','C9': '2357',\n",
    " 'D1': '345','D2': '345','D3': '8','D4': '1','D5': '3456','D6': '2','D7': '9','D8': '34567','D9': '34567',\n",
    " 'E1': '7','E2': '123459','E3': '49','E4': '459','E5': '34569','E6': '4','E7': '1','E8': '13456','E9': '8',\n",
    " 'F1': '1345','F2': '13459','F3': '6','F4': '7','F5': '3459','F6': '8','F7': '2','F8': '1345','F9': '345',\n",
    " 'G1': '134','G2': '1347','G3': '2','G4': '6','G5': '478','G6': '9','G7': '5','G8': '1478','G9': '47',\n",
    " 'H1': '8','H2': '1467','H3': '47','H4': '2','H5': '457','H6': '3','H7': '17','H8': '1467','H9': '9',\n",
    " 'I1': '46','I2': '4679','I3': '5','I4': '4','I5': '1','I6': '47','I7': '3','I8': '24678','I9': '2467'\n",
    " }\n",
    "\n",
    "```\n",
    "\n",
    "\n",
    "<img src=\"images/values-easy.png\"   align=left width=\"40%\">\n"
   ]
  },
  {
   "cell_type": "markdown",
   "metadata": {},
   "source": [
    "## 6. Strategy 2: Only Choice\n",
    "<img src=\"images/values-easy.png\"   align=left width=\"40%\">\n",
    "\n",
    "<img src=\"images/highlighted-unit.png\"   align=left width=\"40%\">\n"
   ]
  },
  {
   "cell_type": "markdown",
   "metadata": {},
   "source": [
    "### Strategy 2: Only Choice"
   ]
  }
 ],
 "metadata": {
  "kernelspec": {
   "display_name": "Python 3",
   "language": "python",
   "name": "python3"
  },
  "language_info": {
   "codemirror_mode": {
    "name": "ipython",
    "version": 3
   },
   "file_extension": ".py",
   "mimetype": "text/x-python",
   "name": "python",
   "nbconvert_exporter": "python",
   "pygments_lexer": "ipython3",
   "version": "3.6.0"
  }
 },
 "nbformat": 4,
 "nbformat_minor": 2
}
