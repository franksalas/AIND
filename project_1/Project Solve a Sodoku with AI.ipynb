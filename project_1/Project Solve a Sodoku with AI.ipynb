{
 "cells": [
  {
   "cell_type": "markdown",
   "metadata": {
    "deletable": true,
    "editable": true
   },
   "source": [
    "### Francisco Salas\n",
    "\n",
    "##### Project: Solve a Sudoku with AI notes"
   ]
  },
  {
   "cell_type": "code",
   "execution_count": 1,
   "metadata": {
    "collapsed": true,
    "deletable": true,
    "editable": true
   },
   "outputs": [],
   "source": [
    "from IPython.display import display, HTML"
   ]
  },
  {
   "cell_type": "markdown",
   "metadata": {
    "deletable": true,
    "editable": true
   },
   "source": [
    "## 3.Setting up the board\n",
    "\n",
    "### Naming conventions\n",
    "#### Rows and Columns\n",
    "- Rows will be labelled by the letters A,B,C,D,E,F,G,H\n",
    "- Columns will be labelled by the numbers 1,2,3,4,5,6,7,8,9\n",
    "\n",
    "#### Boxes, Units and Peers\n",
    "- **boxes**: individual squares ex. `'A1,'A2'...'I9'`\n",
    "- **units**: complete rows, columns, and $3x3$ squares\n",
    "- **peers**: all the other boxes that belong to a common unit ie peers of`A1'.."
   ]
  },
  {
   "cell_type": "markdown",
   "metadata": {
    "deletable": true,
    "editable": true
   },
   "source": [
    "## 4. Encoding the Board\""
   ]
  },
  {
   "cell_type": "code",
   "execution_count": 3,
   "metadata": {
    "collapsed": true,
    "deletable": true,
    "editable": true
   },
   "outputs": [],
   "source": [
    "rows = 'ABCDEFGHI'\n",
    "cols = '123456789'"
   ]
  },
  {
   "cell_type": "code",
   "execution_count": 4,
   "metadata": {
    "collapsed": true,
    "deletable": true,
    "editable": true
   },
   "outputs": [],
   "source": [
    "def cross(a,b):\n",
    "    return[s+t for s in a for t in b]"
   ]
  },
  {
   "cell_type": "code",
   "execution_count": 5,
   "metadata": {
    "collapsed": false,
    "deletable": true,
    "editable": true
   },
   "outputs": [],
   "source": [
    "boxes = cross(rows, cols)"
   ]
  },
  {
   "cell_type": "code",
   "execution_count": 6,
   "metadata": {
    "collapsed": true,
    "deletable": true,
    "editable": true
   },
   "outputs": [],
   "source": [
    "row_units = [cross(r,cols) for r in rows]\n",
    "\n",
    "column_units = [cross(rows,c) for c in cols]\n",
    "\n",
    "square_units = [cross(rs, cs) for rs in ('ABC', 'DEF', 'GHI') for cs in ('123', '456', '789')]\n",
    "\n",
    "\n",
    "unitlist = row_units + column_units + square_units"
   ]
  },
  {
   "cell_type": "code",
   "execution_count": 7,
   "metadata": {
    "collapsed": true,
    "deletable": true,
    "editable": true
   },
   "outputs": [],
   "source": [
    "units = dict((s, [u for u in unitlist if s in u])for s in boxes)\n",
    "\n",
    "peers = dict((s, set(sum(units[s], []))- set([s])) for s in boxes)"
   ]
  },
  {
   "cell_type": "code",
   "execution_count": 9,
   "metadata": {
    "collapsed": true,
    "deletable": true,
    "editable": true
   },
   "outputs": [],
   "source": [
    "def display(values):\n",
    "    '''\n",
    "    Display the values as 2D grid.\n",
    "    input: The sodoku in dictionary form\n",
    "    output: None\n",
    "    '''\n",
    "    width = 1+ max(len(values[s]) for s in boxes)\n",
    "    line = '+'.join(['-'*(width*3)]*3)\n",
    "    for r in rows:\n",
    "        print(''.join(values[r + c].center(width) + ('|' if c in '36' else '')\n",
    "                     for c in cols))\n",
    "        if r in 'CF': \n",
    "            print(line)\n",
    "    return      "
   ]
  },
  {
   "cell_type": "markdown",
   "metadata": {
    "deletable": true,
    "editable": true
   },
   "source": [
    "### `grid_values()`"
   ]
  },
  {
   "cell_type": "code",
   "execution_count": 10,
   "metadata": {
    "collapsed": true,
    "deletable": true,
    "editable": true
   },
   "outputs": [],
   "source": [
    "def grid_values(grid):\n",
    "    '''\n",
    "    convert grid string into {<box>: <val>} dict with '.' values for emplties\n",
    "    \n",
    "    args:\n",
    "        grid: Sudoku grid in string form, 81 chars long\n",
    "    returns:\n",
    "        Sudou grid indict form:\n",
    "            - key: Box labels, eg 'A1'\n",
    "            - val: value in correstonidgn box, e.g '8', or '.' if empty.\n",
    "    '''\n",
    "    \n",
    "    assert len(grid) == 81 # input grid must be a string of length 81 (9x9)\n",
    "    return dict(zip(boxes, grid))"
   ]
  },
  {
   "cell_type": "markdown",
   "metadata": {
    "deletable": true,
    "editable": true
   },
   "source": [
    "#### TEST"
   ]
  },
  {
   "cell_type": "code",
   "execution_count": 11,
   "metadata": {
    "collapsed": false,
    "deletable": true,
    "editable": true
   },
   "outputs": [
    {
     "name": "stdout",
     "output_type": "stream",
     "text": [
      ". . 3 |. 2 . |6 . . \n",
      "9 . . |3 . 5 |. . 1 \n",
      ". . 1 |8 . 6 |4 . . \n",
      "------+------+------\n",
      ". . 8 |1 . 2 |9 . . \n",
      "7 . . |. . . |. . 8 \n",
      ". . 6 |7 . 8 |2 . . \n",
      "------+------+------\n",
      ". . 2 |6 . 9 |5 . . \n",
      "8 . . |2 . 3 |. . 9 \n",
      ". . 5 |. 1 . |3 . . \n"
     ]
    }
   ],
   "source": [
    "display(grid_values('..3.2.6..9..3.5..1..18.64....81.29..7.......8..67.82....26.95..8..2.3..9..5.1.3..'))"
   ]
  },
  {
   "cell_type": "markdown",
   "metadata": {
    "deletable": true,
    "editable": true
   },
   "source": [
    "---\n",
    "## 5 strategy 1. Emimination\n",
    "#### If a box has a value assigned, then non of the peers of this box can have this value"
   ]
  },
  {
   "cell_type": "code",
   "execution_count": 2,
   "metadata": {
    "collapsed": false,
    "deletable": true,
    "editable": true
   },
   "outputs": [
    {
     "data": {
      "text/html": [
       "\n",
       "<img src=\"images/reduce-values.png\"   align=left width=\"41%\">\n",
       "<img src=\"images/values-easy.png\"   align=left width=\"41%\">\n"
      ],
      "text/plain": [
       "<IPython.core.display.HTML object>"
      ]
     },
     "metadata": {},
     "output_type": "display_data"
    }
   ],
   "source": [
    "display(HTML('''\n",
    "<img src=\"images/reduce-values.png\"   align=left width=\"41%\">\n",
    "<img src=\"images/values-easy.png\"   align=left width=\"41%\">\n",
    "'''))"
   ]
  },
  {
   "cell_type": "markdown",
   "metadata": {
    "deletable": true,
    "editable": true
   },
   "source": [
    "#### CODE\n",
    "new `grid_values()` function that changes the empty slot into a string of `'123456789'`"
   ]
  },
  {
   "cell_type": "code",
   "execution_count": 9,
   "metadata": {
    "collapsed": true,
    "deletable": true,
    "editable": true
   },
   "outputs": [],
   "source": [
    "def grid_values(grid):\n",
    "    '''\n",
    "    Convert grid string into {<box>: <value>} dict with '123456789' values for empties\n",
    "    \n",
    "    args:\n",
    "        grid: Sudoku grid in string form, 81 chars long\n",
    "    returns:\n",
    "        sudoku grid in dic form:\n",
    "        - key: box labels ex. 'A1\n",
    "        - val: Value in correspinind box, ex. '8' or '123456789' if it is empty.\n",
    "    '''\n",
    "    values = []\n",
    "    all_digits = '123456789'\n",
    "    for c in grid:\n",
    "        if c =='.':\n",
    "            values.append(all_digits)\n",
    "        elif c in all_digits:\n",
    "            values.append(c)\n",
    "    assert len(values) == 81\n",
    "    return dict(zip(boxes, values))"
   ]
  },
  {
   "cell_type": "markdown",
   "metadata": {
    "deletable": true,
    "editable": true
   },
   "source": [
    "#### TEST"
   ]
  },
  {
   "cell_type": "code",
   "execution_count": 10,
   "metadata": {
    "collapsed": false,
    "deletable": true,
    "editable": true
   },
   "outputs": [
    {
     "name": "stdout",
     "output_type": "stream",
     "text": [
      "123456789 123456789     3     |123456789     2     123456789 |    6     123456789 123456789 \n",
      "    9     123456789 123456789 |    3     123456789     5     |123456789 123456789     1     \n",
      "123456789 123456789     1     |    8     123456789     6     |    4     123456789 123456789 \n",
      "------------------------------+------------------------------+------------------------------\n",
      "123456789 123456789     8     |    1     123456789     2     |    9     123456789 123456789 \n",
      "    7     123456789 123456789 |123456789 123456789 123456789 |123456789 123456789     8     \n",
      "123456789 123456789     6     |    7     123456789     8     |    2     123456789 123456789 \n",
      "------------------------------+------------------------------+------------------------------\n",
      "123456789 123456789     2     |    6     123456789     9     |    5     123456789 123456789 \n",
      "    8     123456789 123456789 |    2     123456789     3     |123456789 123456789     9     \n",
      "123456789 123456789     5     |123456789     1     123456789 |    3     123456789 123456789 \n"
     ]
    }
   ],
   "source": [
    "display(grid_values('..3.2.6..9..3.5..1..18.64....81.29..7.......8..67.82....26.95..8..2.3..9..5.1.3..'))"
   ]
  },
  {
   "cell_type": "code",
   "execution_count": 11,
   "metadata": {
    "collapsed": false,
    "deletable": true,
    "editable": true
   },
   "outputs": [
    {
     "data": {
      "text/plain": [
       "{'A1': '123456789',\n",
       " 'A2': '123456789',\n",
       " 'A3': '3',\n",
       " 'A4': '123456789',\n",
       " 'A5': '2',\n",
       " 'A6': '123456789',\n",
       " 'A7': '6',\n",
       " 'A8': '123456789',\n",
       " 'A9': '123456789',\n",
       " 'B1': '9',\n",
       " 'B2': '123456789',\n",
       " 'B3': '123456789',\n",
       " 'B4': '3',\n",
       " 'B5': '123456789',\n",
       " 'B6': '5',\n",
       " 'B7': '123456789',\n",
       " 'B8': '123456789',\n",
       " 'B9': '1',\n",
       " 'C1': '123456789',\n",
       " 'C2': '123456789',\n",
       " 'C3': '1',\n",
       " 'C4': '8',\n",
       " 'C5': '123456789',\n",
       " 'C6': '6',\n",
       " 'C7': '4',\n",
       " 'C8': '123456789',\n",
       " 'C9': '123456789',\n",
       " 'D1': '123456789',\n",
       " 'D2': '123456789',\n",
       " 'D3': '8',\n",
       " 'D4': '1',\n",
       " 'D5': '123456789',\n",
       " 'D6': '2',\n",
       " 'D7': '9',\n",
       " 'D8': '123456789',\n",
       " 'D9': '123456789',\n",
       " 'E1': '7',\n",
       " 'E2': '123456789',\n",
       " 'E3': '123456789',\n",
       " 'E4': '123456789',\n",
       " 'E5': '123456789',\n",
       " 'E6': '123456789',\n",
       " 'E7': '123456789',\n",
       " 'E8': '123456789',\n",
       " 'E9': '8',\n",
       " 'F1': '123456789',\n",
       " 'F2': '123456789',\n",
       " 'F3': '6',\n",
       " 'F4': '7',\n",
       " 'F5': '123456789',\n",
       " 'F6': '8',\n",
       " 'F7': '2',\n",
       " 'F8': '123456789',\n",
       " 'F9': '123456789',\n",
       " 'G1': '123456789',\n",
       " 'G2': '123456789',\n",
       " 'G3': '2',\n",
       " 'G4': '6',\n",
       " 'G5': '123456789',\n",
       " 'G6': '9',\n",
       " 'G7': '5',\n",
       " 'G8': '123456789',\n",
       " 'G9': '123456789',\n",
       " 'H1': '8',\n",
       " 'H2': '123456789',\n",
       " 'H3': '123456789',\n",
       " 'H4': '2',\n",
       " 'H5': '123456789',\n",
       " 'H6': '3',\n",
       " 'H7': '123456789',\n",
       " 'H8': '123456789',\n",
       " 'H9': '9',\n",
       " 'I1': '123456789',\n",
       " 'I2': '123456789',\n",
       " 'I3': '5',\n",
       " 'I4': '123456789',\n",
       " 'I5': '1',\n",
       " 'I6': '123456789',\n",
       " 'I7': '3',\n",
       " 'I8': '123456789',\n",
       " 'I9': '123456789'}"
      ]
     },
     "execution_count": 11,
     "metadata": {},
     "output_type": "execute_result"
    }
   ],
   "source": [
    "solution = grid_values('..3.2.6..9..3.5..1..18.64....81.29..7.......8..67.82....26.95..8..2.3..9..5.1.3..')\n",
    "solution"
   ]
  },
  {
   "cell_type": "markdown",
   "metadata": {
    "deletable": true,
    "editable": true
   },
   "source": [
    "### Imlement `eliminate()`\n",
    "Now we will implement eliminate"
   ]
  },
  {
   "cell_type": "code",
   "execution_count": 12,
   "metadata": {
    "collapsed": true,
    "deletable": true,
    "editable": true
   },
   "outputs": [],
   "source": [
    "def eliminate(values):\n",
    "    '''\n",
    "    Eliminate values from peers of each box with a single value.\n",
    "    \n",
    "    Go throug all the boxes, and whenever there is a box with a single value,\n",
    "    eliminate this value form the set of values of all its peers.\n",
    "    \n",
    "    args:\n",
    "        values: sudoku in dict form\n",
    "    returs:\n",
    "        resulting sudoju in dict form after eliminating values.\n",
    "    '''\n",
    "    \n",
    "    solved_values = [box for box in values.keys() if len(values[box]) == 1]\n",
    "    for box in solved_values:\n",
    "        digit = values[box]\n",
    "        for peer in peers[box]:\n",
    "            values[peer] = values[peer].replace(digit, '')\n",
    "    return values"
   ]
  },
  {
   "cell_type": "markdown",
   "metadata": {
    "deletable": true,
    "editable": true
   },
   "source": [
    "#### TEST"
   ]
  },
  {
   "cell_type": "code",
   "execution_count": 13,
   "metadata": {
    "collapsed": false,
    "deletable": true,
    "editable": true
   },
   "outputs": [
    {
     "data": {
      "text/plain": [
       "{'A1': '45',\n",
       " 'A2': '4578',\n",
       " 'A3': '3',\n",
       " 'A4': '49',\n",
       " 'A5': '2',\n",
       " 'A6': '147',\n",
       " 'A7': '6',\n",
       " 'A8': '5789',\n",
       " 'A9': '57',\n",
       " 'B1': '9',\n",
       " 'B2': '24678',\n",
       " 'B3': '47',\n",
       " 'B4': '3',\n",
       " 'B5': '47',\n",
       " 'B6': '5',\n",
       " 'B7': '78',\n",
       " 'B8': '278',\n",
       " 'B9': '1',\n",
       " 'C1': '25',\n",
       " 'C2': '257',\n",
       " 'C3': '1',\n",
       " 'C4': '8',\n",
       " 'C5': '79',\n",
       " 'C6': '6',\n",
       " 'C7': '4',\n",
       " 'C8': '23579',\n",
       " 'C9': '2357',\n",
       " 'D1': '345',\n",
       " 'D2': '345',\n",
       " 'D3': '8',\n",
       " 'D4': '1',\n",
       " 'D5': '3456',\n",
       " 'D6': '2',\n",
       " 'D7': '9',\n",
       " 'D8': '34567',\n",
       " 'D9': '34567',\n",
       " 'E1': '7',\n",
       " 'E2': '123459',\n",
       " 'E3': '49',\n",
       " 'E4': '459',\n",
       " 'E5': '34569',\n",
       " 'E6': '4',\n",
       " 'E7': '1',\n",
       " 'E8': '13456',\n",
       " 'E9': '8',\n",
       " 'F1': '1345',\n",
       " 'F2': '13459',\n",
       " 'F3': '6',\n",
       " 'F4': '7',\n",
       " 'F5': '3459',\n",
       " 'F6': '8',\n",
       " 'F7': '2',\n",
       " 'F8': '1345',\n",
       " 'F9': '345',\n",
       " 'G1': '134',\n",
       " 'G2': '1347',\n",
       " 'G3': '2',\n",
       " 'G4': '6',\n",
       " 'G5': '478',\n",
       " 'G6': '9',\n",
       " 'G7': '5',\n",
       " 'G8': '1478',\n",
       " 'G9': '47',\n",
       " 'H1': '8',\n",
       " 'H2': '1467',\n",
       " 'H3': '47',\n",
       " 'H4': '2',\n",
       " 'H5': '457',\n",
       " 'H6': '3',\n",
       " 'H7': '17',\n",
       " 'H8': '1467',\n",
       " 'H9': '9',\n",
       " 'I1': '46',\n",
       " 'I2': '4679',\n",
       " 'I3': '5',\n",
       " 'I4': '4',\n",
       " 'I5': '1',\n",
       " 'I6': '47',\n",
       " 'I7': '3',\n",
       " 'I8': '24678',\n",
       " 'I9': '2467'}"
      ]
     },
     "execution_count": 13,
     "metadata": {},
     "output_type": "execute_result"
    }
   ],
   "source": [
    "eliminate(solution)"
   ]
  },
  {
   "cell_type": "code",
   "execution_count": 14,
   "metadata": {
    "collapsed": false,
    "deletable": true,
    "editable": true
   },
   "outputs": [
    {
     "name": "stdout",
     "output_type": "stream",
     "text": [
      "  45   4578   3   |  9     2     17  |  6    5789   57  \n",
      "  9   24678   47  |  3     47    5   |  78   278    1   \n",
      "  25   257    1   |  8     79    6   |  4   23579  2357 \n",
      "------------------+------------------+------------------\n",
      " 345   345    8   |  1    356    2   |  9   34567 34567 \n",
      "  7    2359   9   |  59   3569   4   |  1    356    8   \n",
      " 1345 13459   6   |  7    359    8   |  2    345   345  \n",
      "------------------+------------------+------------------\n",
      " 134   1347   2   |  6     78    9   |  5    1478   47  \n",
      "  8    1467   47  |  2     57    3   |  7    1467   9   \n",
      "  6    679    5   |  4     1     7   |  3    2678  267  \n"
     ]
    }
   ],
   "source": [
    "display(eliminate(solution))"
   ]
  },
  {
   "cell_type": "markdown",
   "metadata": {
    "deletable": true,
    "editable": true
   },
   "source": [
    "#### oooorrr,,\n",
    "```python\n",
    "{\n",
    " 'A1': '45','A2': '4578','A3': '3','A4': '49','A5': '2','A6': '147','A7': '6','A8': '5789','A9': '57',\n",
    " 'B1': '9','B2': '24678','B3': '47','B4': '3','B5': '47','B6': '5','B7': '78','B8': '278','B9': '1',\n",
    " 'C1': '25','C2': '257','C3': '1','C4': '8','C5': '79','C6': '6','C7': '4','C8': '23579','C9': '2357',\n",
    " 'D1': '345','D2': '345','D3': '8','D4': '1','D5': '3456','D6': '2','D7': '9','D8': '34567','D9': '34567',\n",
    " 'E1': '7','E2': '123459','E3': '49','E4': '459','E5': '34569','E6': '4','E7': '1','E8': '13456','E9': '8',\n",
    " 'F1': '1345','F2': '13459','F3': '6','F4': '7','F5': '3459','F6': '8','F7': '2','F8': '1345','F9': '345',\n",
    " 'G1': '134','G2': '1347','G3': '2','G4': '6','G5': '478','G6': '9','G7': '5','G8': '1478','G9': '47',\n",
    " 'H1': '8','H2': '1467','H3': '47','H4': '2','H5': '457','H6': '3','H7': '17','H8': '1467','H9': '9',\n",
    " 'I1': '46','I2': '4679','I3': '5','I4': '4','I5': '1','I6': '47','I7': '3','I8': '24678','I9': '2467'\n",
    " }\n",
    "\n",
    "```"
   ]
  },
  {
   "cell_type": "code",
   "execution_count": 5,
   "metadata": {
    "collapsed": false,
    "deletable": true,
    "editable": true
   },
   "outputs": [
    {
     "data": {
      "text/html": [
       "\n",
       "<img src=\"images/values-easy.png\"   align=left width=\"41%\">\n"
      ],
      "text/plain": [
       "<IPython.core.display.HTML object>"
      ]
     },
     "metadata": {},
     "output_type": "display_data"
    }
   ],
   "source": [
    "display(HTML('''\n",
    "<img src=\"images/values-easy.png\"   align=left width=\"41%\">\n",
    "'''))"
   ]
  },
  {
   "cell_type": "markdown",
   "metadata": {
    "deletable": true,
    "editable": true
   },
   "source": [
    "## 6. Strategy 2: Only Choice"
   ]
  },
  {
   "cell_type": "code",
   "execution_count": 7,
   "metadata": {
    "collapsed": false,
    "deletable": true,
    "editable": true
   },
   "outputs": [
    {
     "data": {
      "text/html": [
       "\n",
       "<img src=\"images/values-easy.png\"   align=left width=\"40%\">\n",
       "<img src=\"images/highlighted-unit.png\"   align=left width=\"40%\">\n"
      ],
      "text/plain": [
       "<IPython.core.display.HTML object>"
      ]
     },
     "metadata": {},
     "output_type": "display_data"
    }
   ],
   "source": [
    "display(HTML('''\n",
    "<img src=\"images/values-easy.png\"   align=left width=\"40%\">\n",
    "<img src=\"images/highlighted-unit.png\"   align=left width=\"40%\">\n",
    "'''))"
   ]
  },
  {
   "cell_type": "markdown",
   "metadata": {
    "deletable": true,
    "editable": true
   },
   "source": [
    "### Strategy 2: Only Choice\n",
    "If there is only one box in a unit which would allow a certain digit, then that box must be assigned that digit.\n",
    "Time to code it! In the next quiz, finish the code for the function only_choice, which will take as input a puzzle in dictionary form. The function will go through all the units, and if there is a unit with a digit that only fits in one possible box, it will assign that digit to that box."
   ]
  },
  {
   "cell_type": "code",
   "execution_count": 3,
   "metadata": {
    "collapsed": false,
    "deletable": true,
    "editable": true
   },
   "outputs": [
    {
     "data": {
      "text/html": [
       "<img src=\"images/only-choice.png\"   align=left width=\"40%\">"
      ],
      "text/plain": [
       "<IPython.core.display.HTML object>"
      ]
     },
     "metadata": {},
     "output_type": "display_data"
    }
   ],
   "source": [
    "display(HTML('''<img src=\"images/only-choice.png\"   align=left width=\"40%\">'''))"
   ]
  },
  {
   "cell_type": "markdown",
   "metadata": {
    "deletable": true,
    "editable": true
   },
   "source": [
    "#### CODE"
   ]
  },
  {
   "cell_type": "code",
   "execution_count": 15,
   "metadata": {
    "collapsed": true,
    "deletable": true,
    "editable": true
   },
   "outputs": [],
   "source": [
    "def only_choice(values):\n",
    "    '''\n",
    "    Finalize all values that are the only choice for a unit\n",
    "    \n",
    "    Go throug all the units, and whaever there is a unit with a value\n",
    "    that only fits in one box, assing thevalue to this box.\n",
    "    \n",
    "    Input: sudoju in dict form.\n",
    "    output: resulting sudokiu in dict form after filing on ly choices\n",
    "    '''\n",
    "    for unit in unitlist:\n",
    "        for digit in '123456789':\n",
    "            dplaces = [box for box in unit if digit in values[box]]\n",
    "            if len(dplaces) ==1:\n",
    "                values[dplaces[0]] = digit\n",
    "    return values"
   ]
  },
  {
   "cell_type": "markdown",
   "metadata": {
    "deletable": true,
    "editable": true
   },
   "source": [
    "### TEST"
   ]
  },
  {
   "cell_type": "code",
   "execution_count": 16,
   "metadata": {
    "collapsed": false,
    "deletable": true,
    "editable": true
   },
   "outputs": [
    {
     "data": {
      "text/plain": [
       "{'A1': '45',\n",
       " 'A2': '8',\n",
       " 'A3': '3',\n",
       " 'A4': '9',\n",
       " 'A5': '2',\n",
       " 'A6': '1',\n",
       " 'A7': '6',\n",
       " 'A8': '5789',\n",
       " 'A9': '57',\n",
       " 'B1': '9',\n",
       " 'B2': '6',\n",
       " 'B3': '47',\n",
       " 'B4': '3',\n",
       " 'B5': '4',\n",
       " 'B6': '5',\n",
       " 'B7': '8',\n",
       " 'B8': '278',\n",
       " 'B9': '1',\n",
       " 'C1': '2',\n",
       " 'C2': '257',\n",
       " 'C3': '1',\n",
       " 'C4': '8',\n",
       " 'C5': '7',\n",
       " 'C6': '6',\n",
       " 'C7': '4',\n",
       " 'C8': '23579',\n",
       " 'C9': '2357',\n",
       " 'D1': '345',\n",
       " 'D2': '345',\n",
       " 'D3': '8',\n",
       " 'D4': '1',\n",
       " 'D5': '356',\n",
       " 'D6': '2',\n",
       " 'D7': '9',\n",
       " 'D8': '34567',\n",
       " 'D9': '34567',\n",
       " 'E1': '7',\n",
       " 'E2': '2',\n",
       " 'E3': '9',\n",
       " 'E4': '5',\n",
       " 'E5': '3569',\n",
       " 'E6': '4',\n",
       " 'E7': '1',\n",
       " 'E8': '356',\n",
       " 'E9': '8',\n",
       " 'F1': '1345',\n",
       " 'F2': '13459',\n",
       " 'F3': '6',\n",
       " 'F4': '7',\n",
       " 'F5': '359',\n",
       " 'F6': '8',\n",
       " 'F7': '2',\n",
       " 'F8': '345',\n",
       " 'F9': '345',\n",
       " 'G1': '134',\n",
       " 'G2': '1347',\n",
       " 'G3': '2',\n",
       " 'G4': '6',\n",
       " 'G5': '8',\n",
       " 'G6': '9',\n",
       " 'G7': '5',\n",
       " 'G8': '1478',\n",
       " 'G9': '47',\n",
       " 'H1': '8',\n",
       " 'H2': '1467',\n",
       " 'H3': '47',\n",
       " 'H4': '2',\n",
       " 'H5': '5',\n",
       " 'H6': '3',\n",
       " 'H7': '7',\n",
       " 'H8': '6',\n",
       " 'H9': '9',\n",
       " 'I1': '6',\n",
       " 'I2': '9',\n",
       " 'I3': '5',\n",
       " 'I4': '4',\n",
       " 'I5': '1',\n",
       " 'I6': '7',\n",
       " 'I7': '3',\n",
       " 'I8': '8',\n",
       " 'I9': '2'}"
      ]
     },
     "execution_count": 16,
     "metadata": {},
     "output_type": "execute_result"
    }
   ],
   "source": [
    "only_choice(solution)"
   ]
  },
  {
   "cell_type": "code",
   "execution_count": 17,
   "metadata": {
    "collapsed": false,
    "deletable": true,
    "editable": true
   },
   "outputs": [
    {
     "name": "stdout",
     "output_type": "stream",
     "text": [
      "  4     8     3   |  9     2     1   |  6    5789   57  \n",
      "  9     6     7   |  3     4     5   |  8     2     1   \n",
      "  2     5     1   |  8     7     6   |  4     9     3   \n",
      "------------------+------------------+------------------\n",
      " 345   345    8   |  1    356    2   |  9     7     6   \n",
      "  7     2     9   |  5    3569   4   |  1    356    8   \n",
      " 1345 13459   6   |  7    359    8   |  2    345   345  \n",
      "------------------+------------------+------------------\n",
      " 134    7     2   |  6     8     9   |  5     1     4   \n",
      "  8     1     4   |  2     5     3   |  7     6     9   \n",
      "  6     9     5   |  4     1     7   |  3     8     2   \n"
     ]
    }
   ],
   "source": [
    "display(only_choice(solution))"
   ]
  },
  {
   "cell_type": "markdown",
   "metadata": {
    "deletable": true,
    "editable": true
   },
   "source": [
    "## 7 Constraint Propagation\n",
    "Now that you see how we apply Constraint Propagation to this problem, let's try to code it! In the following quiz, combine the functions eliminate and only_choice to write the function reduce_puzzle, which receives as input an unsolved puzzle and applies our two constraints repeatedly in an attempt to solve it.\n",
    "\n",
    "Some things to watch out for:\n",
    "\n",
    "The function needs to stop if the puzzle gets solved. How to do this?\n",
    "What if the function doesn't solve the sudoku? Can we make sure the function quits when applying the two strategies stops making progress?"
   ]
  },
  {
   "cell_type": "markdown",
   "metadata": {
    "collapsed": true,
    "deletable": true,
    "editable": true
   },
   "source": [
    "### Code"
   ]
  },
  {
   "cell_type": "code",
   "execution_count": 18,
   "metadata": {
    "collapsed": true,
    "deletable": true,
    "editable": true
   },
   "outputs": [],
   "source": [
    "def reduce_puzzle(values):\n",
    "    '''\n",
    "    Iterate eliminate() and only_choice(). IF at some point, there is a box with no availible values, return False.\n",
    "    If the sudoku is sovled, return the sodoku.\n",
    "    If after an iteration of both funcitons, the sudoju remains the same, return the sudoku\n",
    "    \n",
    "    input: a sudoku in dict form.\n",
    "    Output: the resulting sudoju in dic form.\n",
    "    '''\n",
    "    stalled = False\n",
    "    while not stalled:\n",
    "        # check how many boxes have determined value\n",
    "        solved_values_before = len([box for box in values.keys() if len(values[box])==1])\n",
    "        \n",
    "        # eliminate strategy\n",
    "        values = eliminate(values)\n",
    "        # choice  strategy\n",
    "        values = only_choice(values)\n",
    "        # check how many boxeshave a determinde value, to compare\n",
    "        solver_values_after = len([box for box in values.keys() if len(values[box]) ==1])\n",
    "        # if no new values were added, stop the loop\n",
    "        stalled = solved_values_before == solver_values_after\n",
    "        # sanity check!, return False if ther is a box with zero available values:\n",
    "        if len([box for box in values.keys() if len(values[box]) == 0]):\n",
    "            return False\n",
    "    return values\n",
    "        "
   ]
  },
  {
   "cell_type": "markdown",
   "metadata": {
    "deletable": true,
    "editable": true
   },
   "source": [
    "### TEST"
   ]
  },
  {
   "cell_type": "code",
   "execution_count": 37,
   "metadata": {
    "collapsed": false,
    "deletable": true,
    "editable": true
   },
   "outputs": [
    {
     "data": {
      "text/plain": [
       "{'A1': '4',\n",
       " 'A2': '8',\n",
       " 'A3': '3',\n",
       " 'A4': '9',\n",
       " 'A5': '2',\n",
       " 'A6': '1',\n",
       " 'A7': '6',\n",
       " 'A8': '5',\n",
       " 'A9': '7',\n",
       " 'B1': '9',\n",
       " 'B2': '6',\n",
       " 'B3': '7',\n",
       " 'B4': '3',\n",
       " 'B5': '4',\n",
       " 'B6': '5',\n",
       " 'B7': '8',\n",
       " 'B8': '2',\n",
       " 'B9': '1',\n",
       " 'C1': '2',\n",
       " 'C2': '5',\n",
       " 'C3': '1',\n",
       " 'C4': '8',\n",
       " 'C5': '7',\n",
       " 'C6': '6',\n",
       " 'C7': '4',\n",
       " 'C8': '9',\n",
       " 'C9': '3',\n",
       " 'D1': '5',\n",
       " 'D2': '4',\n",
       " 'D3': '8',\n",
       " 'D4': '1',\n",
       " 'D5': '3',\n",
       " 'D6': '2',\n",
       " 'D7': '9',\n",
       " 'D8': '7',\n",
       " 'D9': '6',\n",
       " 'E1': '7',\n",
       " 'E2': '2',\n",
       " 'E3': '9',\n",
       " 'E4': '5',\n",
       " 'E5': '6',\n",
       " 'E6': '4',\n",
       " 'E7': '1',\n",
       " 'E8': '3',\n",
       " 'E9': '8',\n",
       " 'F1': '1',\n",
       " 'F2': '3',\n",
       " 'F3': '6',\n",
       " 'F4': '7',\n",
       " 'F5': '9',\n",
       " 'F6': '8',\n",
       " 'F7': '2',\n",
       " 'F8': '4',\n",
       " 'F9': '5',\n",
       " 'G1': '3',\n",
       " 'G2': '7',\n",
       " 'G3': '2',\n",
       " 'G4': '6',\n",
       " 'G5': '8',\n",
       " 'G6': '9',\n",
       " 'G7': '5',\n",
       " 'G8': '1',\n",
       " 'G9': '4',\n",
       " 'H1': '8',\n",
       " 'H2': '1',\n",
       " 'H3': '4',\n",
       " 'H4': '2',\n",
       " 'H5': '5',\n",
       " 'H6': '3',\n",
       " 'H7': '7',\n",
       " 'H8': '6',\n",
       " 'H9': '9',\n",
       " 'I1': '6',\n",
       " 'I2': '9',\n",
       " 'I3': '5',\n",
       " 'I4': '4',\n",
       " 'I5': '1',\n",
       " 'I6': '7',\n",
       " 'I7': '3',\n",
       " 'I8': '8',\n",
       " 'I9': '2'}"
      ]
     },
     "execution_count": 37,
     "metadata": {},
     "output_type": "execute_result"
    }
   ],
   "source": [
    "reduce_puzzle(solution)"
   ]
  },
  {
   "cell_type": "code",
   "execution_count": 19,
   "metadata": {
    "collapsed": false,
    "deletable": true,
    "editable": true
   },
   "outputs": [
    {
     "name": "stdout",
     "output_type": "stream",
     "text": [
      "4 8 3 |9 2 1 |6 5 7 \n",
      "9 6 7 |3 4 5 |8 2 1 \n",
      "2 5 1 |8 7 6 |4 9 3 \n",
      "------+------+------\n",
      "5 4 8 |1 3 2 |9 7 6 \n",
      "7 2 9 |5 6 4 |1 3 8 \n",
      "1 3 6 |7 9 8 |2 4 5 \n",
      "------+------+------\n",
      "3 7 2 |6 8 9 |5 1 4 \n",
      "8 1 4 |2 5 3 |7 6 9 \n",
      "6 9 5 |4 1 7 |3 8 2 \n"
     ]
    }
   ],
   "source": [
    "display(reduce_puzzle(solution))"
   ]
  },
  {
   "cell_type": "code",
   "execution_count": 4,
   "metadata": {
    "collapsed": false,
    "deletable": true,
    "editable": true
   },
   "outputs": [
    {
     "data": {
      "text/html": [
       "<img src=\"images/easy-solution.png\"   align=left width=\"40%\">"
      ],
      "text/plain": [
       "<IPython.core.display.HTML object>"
      ]
     },
     "metadata": {},
     "output_type": "display_data"
    }
   ],
   "source": [
    "display(HTML('''<img src=\"images/easy-solution.png\"   align=left width=\"40%\">'''))"
   ]
  },
  {
   "cell_type": "markdown",
   "metadata": {
    "collapsed": true,
    "deletable": true,
    "editable": true
   },
   "source": [
    "## 8 Harder Sudoku"
   ]
  },
  {
   "cell_type": "code",
   "execution_count": 21,
   "metadata": {
    "collapsed": true,
    "deletable": true,
    "editable": true
   },
   "outputs": [],
   "source": [
    "grid2 = '4.....8.5.3..........7......2.....6.....8.4......1.......6.3.7.5..2.....1.4......'\n",
    "values = grid_values(grid2)"
   ]
  },
  {
   "cell_type": "code",
   "execution_count": 25,
   "metadata": {
    "collapsed": false,
    "deletable": true,
    "editable": true
   },
   "outputs": [
    {
     "name": "stdout",
     "output_type": "stream",
     "text": [
      "    4     123456789 123456789 |123456789 123456789 123456789 |    8     123456789     5     \n",
      "123456789     3     123456789 |123456789 123456789 123456789 |123456789 123456789 123456789 \n",
      "123456789 123456789 123456789 |    7     123456789 123456789 |123456789 123456789 123456789 \n",
      "------------------------------+------------------------------+------------------------------\n",
      "123456789     2     123456789 |123456789 123456789 123456789 |123456789     6     123456789 \n",
      "123456789 123456789 123456789 |123456789     8     123456789 |    4     123456789 123456789 \n",
      "123456789 123456789 123456789 |123456789     1     123456789 |123456789 123456789 123456789 \n",
      "------------------------------+------------------------------+------------------------------\n",
      "123456789 123456789 123456789 |    6     123456789     3     |123456789     7     123456789 \n",
      "    5     123456789 123456789 |    2     123456789 123456789 |123456789 123456789 123456789 \n",
      "    1     123456789     4     |123456789 123456789 123456789 |123456789 123456789 123456789 \n"
     ]
    }
   ],
   "source": [
    "display(values)"
   ]
  },
  {
   "cell_type": "code",
   "execution_count": 39,
   "metadata": {
    "collapsed": false,
    "deletable": true,
    "editable": true
   },
   "outputs": [
    {
     "data": {
      "text/plain": [
       "{'A1': '4',\n",
       " 'A2': '1679',\n",
       " 'A3': '12679',\n",
       " 'A4': '139',\n",
       " 'A5': '2369',\n",
       " 'A6': '269',\n",
       " 'A7': '8',\n",
       " 'A8': '1239',\n",
       " 'A9': '5',\n",
       " 'B1': '26789',\n",
       " 'B2': '3',\n",
       " 'B3': '1256789',\n",
       " 'B4': '14589',\n",
       " 'B5': '24569',\n",
       " 'B6': '245689',\n",
       " 'B7': '12679',\n",
       " 'B8': '1249',\n",
       " 'B9': '124679',\n",
       " 'C1': '2689',\n",
       " 'C2': '15689',\n",
       " 'C3': '125689',\n",
       " 'C4': '7',\n",
       " 'C5': '234569',\n",
       " 'C6': '245689',\n",
       " 'C7': '12369',\n",
       " 'C8': '12349',\n",
       " 'C9': '123469',\n",
       " 'D1': '3789',\n",
       " 'D2': '2',\n",
       " 'D3': '15789',\n",
       " 'D4': '3459',\n",
       " 'D5': '34579',\n",
       " 'D6': '4579',\n",
       " 'D7': '13579',\n",
       " 'D8': '6',\n",
       " 'D9': '13789',\n",
       " 'E1': '3679',\n",
       " 'E2': '15679',\n",
       " 'E3': '15679',\n",
       " 'E4': '359',\n",
       " 'E5': '8',\n",
       " 'E6': '25679',\n",
       " 'E7': '4',\n",
       " 'E8': '12359',\n",
       " 'E9': '12379',\n",
       " 'F1': '36789',\n",
       " 'F2': '4',\n",
       " 'F3': '56789',\n",
       " 'F4': '359',\n",
       " 'F5': '1',\n",
       " 'F6': '25679',\n",
       " 'F7': '23579',\n",
       " 'F8': '23589',\n",
       " 'F9': '23789',\n",
       " 'G1': '289',\n",
       " 'G2': '89',\n",
       " 'G3': '289',\n",
       " 'G4': '6',\n",
       " 'G5': '459',\n",
       " 'G6': '3',\n",
       " 'G7': '1259',\n",
       " 'G8': '7',\n",
       " 'G9': '12489',\n",
       " 'H1': '5',\n",
       " 'H2': '6789',\n",
       " 'H3': '3',\n",
       " 'H4': '2',\n",
       " 'H5': '479',\n",
       " 'H6': '1',\n",
       " 'H7': '69',\n",
       " 'H8': '489',\n",
       " 'H9': '4689',\n",
       " 'I1': '1',\n",
       " 'I2': '6789',\n",
       " 'I3': '4',\n",
       " 'I4': '589',\n",
       " 'I5': '579',\n",
       " 'I6': '5789',\n",
       " 'I7': '23569',\n",
       " 'I8': '23589',\n",
       " 'I9': '23689'}"
      ]
     },
     "execution_count": 39,
     "metadata": {},
     "output_type": "execute_result"
    }
   ],
   "source": [
    "reduce_puzzle(values)"
   ]
  },
  {
   "cell_type": "code",
   "execution_count": 26,
   "metadata": {
    "collapsed": false,
    "deletable": true,
    "editable": true
   },
   "outputs": [
    {
     "name": "stdout",
     "output_type": "stream",
     "text": [
      "   4      1679   12679  |  139     2369    269   |   8      1239     5    \n",
      " 26789     3    1256789 | 14589   24569   245689 | 12679    1249   124679 \n",
      "  2689   15689   125689 |   7     234569  245689 | 12369   12349   123469 \n",
      "------------------------+------------------------+------------------------\n",
      "  3789     2     15789  |  3459   34579    4579  | 13579     6     13789  \n",
      "  3679   15679   15679  |  359      8     25679  |   4     12359   12379  \n",
      " 36789     4     56789  |  359      1     25679  | 23579   23589   23789  \n",
      "------------------------+------------------------+------------------------\n",
      "  289      89     289   |   6      459      3    |  1259     7     12489  \n",
      "   5      6789     3    |   2      479      1    |   69     489     4689  \n",
      "   1      6789     4    |  589     579     5789  | 23569   23589   23689  \n"
     ]
    }
   ],
   "source": [
    "display(reduce_puzzle(values))"
   ]
  },
  {
   "cell_type": "code",
   "execution_count": 5,
   "metadata": {
    "collapsed": false,
    "deletable": true,
    "editable": true
   },
   "outputs": [
    {
     "data": {
      "text/html": [
       "\n",
       "<img src=\"images/harder-puzzle.png\"   align=left width=\"40%\">\n",
       "<img src=\"images/harder-sudoku-reduced.png\"   align=left width=\"40%\">\n"
      ],
      "text/plain": [
       "<IPython.core.display.HTML object>"
      ]
     },
     "metadata": {},
     "output_type": "display_data"
    }
   ],
   "source": [
    "display(HTML('''\n",
    "<img src=\"images/harder-puzzle.png\"   align=left width=\"40%\">\n",
    "<img src=\"images/harder-sudoku-reduced.png\"   align=left width=\"40%\">\n",
    "'''))"
   ]
  },
  {
   "cell_type": "markdown",
   "metadata": {
    "deletable": true,
    "editable": true
   },
   "source": [
    "Oh no! The algorithm didn't solve it. It seemed to reduce every box to a number of possibilites, but it won't go farther than that. We need to think of other ways to improve our solution."
   ]
  },
  {
   "cell_type": "markdown",
   "metadata": {
    "deletable": true,
    "editable": true
   },
   "source": [
    "# 9 Strategy 3 : Search\n",
    "\n"
   ]
  },
  {
   "cell_type": "code",
   "execution_count": 7,
   "metadata": {
    "collapsed": false,
    "deletable": true,
    "editable": true
   },
   "outputs": [
    {
     "data": {
      "text/html": [
       "<img src=\"images/search1.png\"   align=left width=\"70%\">"
      ],
      "text/plain": [
       "<IPython.core.display.HTML object>"
      ]
     },
     "metadata": {},
     "output_type": "display_data"
    }
   ],
   "source": [
    "display(HTML('''<img src=\"images/search1.png\"   align=left width=\"70%\">'''))"
   ]
  },
  {
   "cell_type": "markdown",
   "metadata": {
    "deletable": true,
    "editable": true
   },
   "source": [
    "We're now goint to use another foundation AI techique to help us solve this problem.: **Search**.\n",
    "\n",
    "Search is used throught AI from Game-playing to Route Planing to efficently find solutions.\n",
    "\n",
    "Here's how we'll apply it. The box `'A2'` has four possubulityes: 1,6,7, and 9. Why dont we fill in with a 1 and try to solve our puzzle. If we cant solve it, well try wth a 6, then with a 7, and then with a 9.\n",
    "\n",
    "Sure, its four times as mucn work but each one of those case becomes asier.\n",
    "\n",
    "Actually, ther simethign a bit smarter thatn that. Looking carefully at the puzzle, is ther a better choice for a box thatn `'A2'`?"
   ]
  },
  {
   "cell_type": "code",
   "execution_count": 9,
   "metadata": {
    "collapsed": false,
    "deletable": true,
    "editable": true
   },
   "outputs": [
    {
     "data": {
      "text/html": [
       "<img src=\"images/choices.png\"   align=left width=\"50%\">"
      ],
      "text/plain": [
       "<IPython.core.display.HTML object>"
      ]
     },
     "metadata": {},
     "output_type": "display_data"
    }
   ],
   "source": [
    "display(HTML('''<img src=\"images/choices.png\"   align=left width=\"50%\">'''))"
   ]
  },
  {
   "cell_type": "markdown",
   "metadata": {
    "deletable": true,
    "editable": true
   },
   "source": [
    "### Strategy 3: Search\n",
    "\n",
    "Pick a box with a minimal number of pssiblie values. \n",
    "\n",
    "Try to solve each of the puzzles obtained by choosing each of these values, **recursively**.\n",
    "\n",
    "Before we dive into code the search function, let's first check our understanding. How would you travesrse the following tree using Depth First search?"
   ]
  },
  {
   "cell_type": "code",
   "execution_count": null,
   "metadata": {
    "collapsed": true,
    "deletable": true,
    "editable": true
   },
   "outputs": [],
   "source": []
  },
  {
   "cell_type": "code",
   "execution_count": 10,
   "metadata": {
    "collapsed": false,
    "deletable": true,
    "editable": true
   },
   "outputs": [
    {
     "data": {
      "text/html": [
       "<img src=\"images/bfs.png\"   align=left width=\"50%\">"
      ],
      "text/plain": [
       "<IPython.core.display.HTML object>"
      ]
     },
     "metadata": {},
     "output_type": "display_data"
    }
   ],
   "source": [
    "display(HTML('''<img src=\"images/bfs.png\"   align=left width=\"50%\">'''))"
   ]
  },
  {
   "cell_type": "code",
   "execution_count": null,
   "metadata": {
    "collapsed": true,
    "deletable": true,
    "editable": true
   },
   "outputs": [],
   "source": []
  },
  {
   "cell_type": "code",
   "execution_count": 11,
   "metadata": {
    "collapsed": false,
    "deletable": true,
    "editable": true
   },
   "outputs": [
    {
     "data": {
      "text/html": [
       "<img src=\"images/bfs-quiz.png\"   align=left width=\"50%\">"
      ],
      "text/plain": [
       "<IPython.core.display.HTML object>"
      ]
     },
     "metadata": {},
     "output_type": "display_data"
    }
   ],
   "source": [
    "display(HTML('''<img src=\"images/bfs-quiz.png\"   align=left width=\"50%\">'''))"
   ]
  },
  {
   "cell_type": "markdown",
   "metadata": {
    "deletable": true,
    "editable": true
   },
   "source": [
    "## 10 Coding the Solution\n",
    "\n",
    "Finish the code in the function `search()`, which will create a tree of possibilities and traverse it using DFS untill it find a solution for the soduku puzzle."
   ]
  },
  {
   "cell_type": "markdown",
   "metadata": {
    "deletable": true,
    "editable": true
   },
   "source": [
    "#### CODE"
   ]
  },
  {
   "cell_type": "code",
   "execution_count": 27,
   "metadata": {
    "collapsed": true,
    "deletable": true,
    "editable": true
   },
   "outputs": [],
   "source": [
    "def search(values):\n",
    "    '''\n",
    "    Using depth-first search and propagation, try all possible values\n",
    "    '''\n",
    "    # First, reduce the puzzle using the previous functions\n",
    "    values = reduce_puzzle(values)\n",
    "    if values is False:\n",
    "        return False  # failed earlier\n",
    "    if all(len(values[s]) == 1 for s in boxes):\n",
    "        return values  # Solved!\n",
    "\n",
    "    # Choose one of the unfilled sqares with the fewest pissiblilities.\n",
    "    n,s = min((len(values[s]),s) for s in boxes if len(values[s]) > 1)\n",
    "    \n",
    "    # now use recursion to solve each one of the resulting suokus, ansd if one reuts a value (not False), return that answer\n",
    "    for value in values[s]:\n",
    "        new_sudoku = values.copy()\n",
    "        new_sudoku[s] = value\n",
    "        attempt = search(new_sudoku)\n",
    "        if attempt:\n",
    "            return attempt"
   ]
  },
  {
   "cell_type": "markdown",
   "metadata": {
    "deletable": true,
    "editable": true
   },
   "source": [
    "#### TEST"
   ]
  },
  {
   "cell_type": "code",
   "execution_count": 28,
   "metadata": {
    "collapsed": false,
    "deletable": true,
    "editable": true
   },
   "outputs": [
    {
     "data": {
      "text/plain": [
       "{'A1': '4',\n",
       " 'A2': '1',\n",
       " 'A3': '7',\n",
       " 'A4': '3',\n",
       " 'A5': '6',\n",
       " 'A6': '9',\n",
       " 'A7': '8',\n",
       " 'A8': '2',\n",
       " 'A9': '5',\n",
       " 'B1': '6',\n",
       " 'B2': '3',\n",
       " 'B3': '2',\n",
       " 'B4': '1',\n",
       " 'B5': '5',\n",
       " 'B6': '8',\n",
       " 'B7': '9',\n",
       " 'B8': '4',\n",
       " 'B9': '7',\n",
       " 'C1': '9',\n",
       " 'C2': '5',\n",
       " 'C3': '8',\n",
       " 'C4': '7',\n",
       " 'C5': '2',\n",
       " 'C6': '4',\n",
       " 'C7': '3',\n",
       " 'C8': '1',\n",
       " 'C9': '6',\n",
       " 'D1': '8',\n",
       " 'D2': '2',\n",
       " 'D3': '5',\n",
       " 'D4': '4',\n",
       " 'D5': '3',\n",
       " 'D6': '7',\n",
       " 'D7': '1',\n",
       " 'D8': '6',\n",
       " 'D9': '9',\n",
       " 'E1': '7',\n",
       " 'E2': '9',\n",
       " 'E3': '1',\n",
       " 'E4': '5',\n",
       " 'E5': '8',\n",
       " 'E6': '6',\n",
       " 'E7': '4',\n",
       " 'E8': '3',\n",
       " 'E9': '2',\n",
       " 'F1': '3',\n",
       " 'F2': '4',\n",
       " 'F3': '6',\n",
       " 'F4': '9',\n",
       " 'F5': '1',\n",
       " 'F6': '2',\n",
       " 'F7': '7',\n",
       " 'F8': '5',\n",
       " 'F9': '8',\n",
       " 'G1': '2',\n",
       " 'G2': '8',\n",
       " 'G3': '9',\n",
       " 'G4': '6',\n",
       " 'G5': '4',\n",
       " 'G6': '3',\n",
       " 'G7': '5',\n",
       " 'G8': '7',\n",
       " 'G9': '1',\n",
       " 'H1': '5',\n",
       " 'H2': '7',\n",
       " 'H3': '3',\n",
       " 'H4': '2',\n",
       " 'H5': '9',\n",
       " 'H6': '1',\n",
       " 'H7': '6',\n",
       " 'H8': '8',\n",
       " 'H9': '4',\n",
       " 'I1': '1',\n",
       " 'I2': '6',\n",
       " 'I3': '4',\n",
       " 'I4': '8',\n",
       " 'I5': '7',\n",
       " 'I6': '5',\n",
       " 'I7': '2',\n",
       " 'I8': '9',\n",
       " 'I9': '3'}"
      ]
     },
     "execution_count": 28,
     "metadata": {},
     "output_type": "execute_result"
    }
   ],
   "source": [
    "search(values)"
   ]
  },
  {
   "cell_type": "code",
   "execution_count": 29,
   "metadata": {
    "collapsed": false,
    "deletable": true,
    "editable": true
   },
   "outputs": [
    {
     "name": "stdout",
     "output_type": "stream",
     "text": [
      "4 1 7 |3 6 9 |8 2 5 \n",
      "6 3 2 |1 5 8 |9 4 7 \n",
      "9 5 8 |7 2 4 |3 1 6 \n",
      "------+------+------\n",
      "8 2 5 |4 3 7 |1 6 9 \n",
      "7 9 1 |5 8 6 |4 3 2 \n",
      "3 4 6 |9 1 2 |7 5 8 \n",
      "------+------+------\n",
      "2 8 9 |6 4 3 |5 7 1 \n",
      "5 7 3 |2 9 1 |6 8 4 \n",
      "1 6 4 |8 7 5 |2 9 3 \n"
     ]
    }
   ],
   "source": [
    "display(search(values))"
   ]
  },
  {
   "cell_type": "markdown",
   "metadata": {
    "deletable": true,
    "editable": true
   },
   "source": [
    "![](images/hard-solution1.png)"
   ]
  },
  {
   "cell_type": "code",
   "execution_count": null,
   "metadata": {
    "collapsed": true,
    "deletable": true,
    "editable": true
   },
   "outputs": [],
   "source": []
  }
 ],
 "metadata": {
  "kernelspec": {
   "display_name": "Python 3",
   "language": "python",
   "name": "python3"
  },
  "language_info": {
   "codemirror_mode": {
    "name": "ipython",
    "version": 3
   },
   "file_extension": ".py",
   "mimetype": "text/x-python",
   "name": "python",
   "nbconvert_exporter": "python",
   "pygments_lexer": "ipython3",
   "version": "3.6.0"
  }
 },
 "nbformat": 4,
 "nbformat_minor": 2
}
