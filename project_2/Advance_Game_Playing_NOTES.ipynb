{
 "cells": [
  {
   "cell_type": "markdown",
   "metadata": {},
   "source": []
  },
  {
   "cell_type": "markdown",
   "metadata": {},
   "source": [
    "## Iterative Deepeing\n",
    "\n",
    "Search the level 1 and get an answer for what we thing is the best move, well keep that answer in case we run out of time but we'll start the process again and go to Level 2 this time.\n",
    "\n",
    "If we finish searching lLervel 2 before time runs out, we'll keep its best move and srestart the search from going from Level 3.\n",
    "\n",
    "We'll continue doing thsi process wntill we run out of time and  then return our best answer.\n",
    "\n",
    "Iterative deepening doesn't waste that much time. Because of the exponential nature of the problem, the amount of time is dominated by the last level searched."
   ]
  },
  {
   "cell_type": "markdown",
   "metadata": {},
   "source": [
    "## Understanding Exponential Time\n",
    "\n",
    "## Level 0\n",
    "- tree nodes: 1\n",
    "- Iterative Deepening nodes : 1\n",
    "\n",
    "```$\n",
    "+---+\n",
    "|   |\n",
    "+---+\n",
    "```"
   ]
  },
  {
   "cell_type": "code",
   "execution_count": null,
   "metadata": {
    "collapsed": true
   },
   "outputs": [],
   "source": []
  }
 ],
 "metadata": {
  "kernelspec": {
   "display_name": "Python 3",
   "language": "python",
   "name": "python3"
  },
  "language_info": {
   "codemirror_mode": {
    "name": "ipython",
    "version": 3
   },
   "file_extension": ".py",
   "mimetype": "text/x-python",
   "name": "python",
   "nbconvert_exporter": "python",
   "pygments_lexer": "ipython3",
   "version": "3.6.0"
  }
 },
 "nbformat": 4,
 "nbformat_minor": 2
}
