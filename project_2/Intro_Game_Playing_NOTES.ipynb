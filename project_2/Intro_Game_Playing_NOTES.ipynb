{
 "cells": [
  {
   "cell_type": "markdown",
   "metadata": {
    "deletable": true,
    "editable": true
   },
   "source": [
    "## Overview\n",
    "\n",
    "Goal is to desing an AI that is smarer thatn yourself, at least at playing a real game.\n",
    "\n",
    "### Main Topics:\n",
    "1. Adversarial Search\n",
    "2. Minimax Algorithm\n",
    "3. Apha-Beta Pruning\n",
    "4. Evaluation Functions\n",
    "5. Isolation Game Player\n",
    "6. Multiplayer, probabilistic Games"
   ]
  },
  {
   "cell_type": "markdown",
   "metadata": {
    "deletable": true,
    "editable": true
   },
   "source": [
    "## Challenge Question Intro\n",
    "\n",
    "\n",
    "Playing strategy **(deterministic)**games like checkers or isolation or chess, we can use the same algorithms, even the same code to make a computer player for a game  that's as simple as tic-tac-toe or as comlex as chess.\n",
    "\n",
    "In principle the only thing that is diffrent between these games is the code for generating all teh next possible moves as well as the user interface.\n",
    "\n",
    "- **MiniMax** is our primary algorithm to figure aout the best move at every turn.\n",
    "- **Alpha-beta pruning**: helps optimize this algorithm, making the agent play quicker.\n",
    "- **Expectimax**: modified version of Minimax for change games that considers all the possible outcomes and chooses the one with the maximun expected return, That is assuming the opponent is making the best moves available.\n"
   ]
  },
  {
   "cell_type": "markdown",
   "metadata": {
    "deletable": true,
    "editable": true
   },
   "source": [
    "## Isolation\n",
    "\n",
    "### Rules of isolation\n",
    "\n",
    "- **objective**: last player to move.\n",
    "- current board : 5x5\n",
    "- O & X\n",
    "- O goes first, places anyhwere on the board\n",
    "- X can place anywhere remaining\n",
    "- from then on, players move like *queens* in chess, example the player can move horisontal, or verical or diagonal from current location exept that it cant move through oponents piece.\n",
    "- Players cannot go outside the boundaries of the game board, nor through aposition that is  currently or was prevoulsy occupied.\n",
    "- first playe rot get isolated, unable to move on their turn, loses.\n",
    "- when you move, only where you land becomes uobtainable for future moves, not the path.\n"
   ]
  },
  {
   "cell_type": "markdown",
   "metadata": {
    "deletable": true,
    "editable": true
   },
   "source": [
    "## Building a Game Tree\n",
    "\n"
   ]
  },
  {
   "cell_type": "markdown",
   "metadata": {
    "deletable": true,
    "editable": true
   },
   "source": [
    "## MIN and MAX levels"
   ]
  },
  {
   "cell_type": "markdown",
   "metadata": {
    "deletable": true,
    "editable": true
   },
   "source": [
    "# Searching Simple Games\n",
    "Optional Reading\n",
    "Artificial Intelligence - A Modern Approach (AIMA): Chapter 5.1-5.2\n",
    "\n",
    "Optional Readings like these will be assigned throughout the course. If you are interested in diving deeper, please take a break, read the designated chapter/section and come back to the lesson when done."
   ]
  },
  {
   "cell_type": "markdown",
   "metadata": {
    "deletable": true,
    "editable": true
   },
   "source": [
    "## Max Number of Nodes Visited\n",
    "\n",
    "```$\n",
    "+---+---+---+---+---+\n",
    "|   |   |   |   |   |\n",
    "+-------------------+\n",
    "|   |   |   |   |   |\n",
    "+-------------------+\n",
    "|   |   |   |   |   |\n",
    "+-------------------+\n",
    "|   |   |   |   |   |\n",
    "+-------------------+\n",
    "|   |   |   |   |   |\n",
    "+---+---+---+---+---+\n",
    "```\n",
    "\n",
    "### How many leaf nodes can we expect?\n",
    "\n",
    "On the First move, O can put its piece in 25 places, next X can put in any of 24 places, after that therea are 23 empty places and so on. \n",
    "\n",
    "$25*24*23*...3*2*1= 25!$ or $10^{25}$ nodes.\n",
    "\n",
    "Now if we compute this with a computer that can do $10^9$ operations per second it would take $10^{16}$ seconds to search the entire game.\n",
    "\n",
    "- $10^{16}$ sec\n",
    "- $3600 \\frac{sec}{hr}$\n",
    "- $\\frac{24}{day}$\n",
    "- $ 365 \\frac{days}{year}$\n",
    "- $317,097920 $\n",
    "\n",
    "\n",
    "#### QUIZ:\n",
    "Maximizing Options for third move\n",
    "\n",
    "```$\n",
    "+---+---+---+---+---+\n",
    "|   |   |   |   |   |\n",
    "+-------------------+\n",
    "|   |   |   |   |   |\n",
    "+-------------------+\n",
    "|   |   | * |   |   |\n",
    "+-------------------+\n",
    "|   |   |   |   |   |\n",
    "+-------------------+\n",
    "|   |   |   |   |   |\n",
    "+---+---+---+---+---+\n",
    "```\n",
    "- Center position has the maximum potential moves with 16 moves\n",
    "\n",
    "\n"
   ]
  },
  {
   "cell_type": "markdown",
   "metadata": {
    "deletable": true,
    "editable": true
   },
   "source": [
    "## The Branching Factor\n",
    "\n",
    "While the center position has 16 spaces in which it can move, most other positions have 12 or less. Lets make a better estimate on how many moves we can make.\n",
    "\n",
    "The branching factor: $25*24*12^{23}$ *n* nodes in our game tree. or $> 10^{27}$ ( gross overestimate)\n",
    "\n",
    "- $12^{12} \\cong 10^{13}$\n",
    "- $12*11*...3*2*1 \\cong 5*10^8$\n",
    "\n",
    "New branching factor is $25*24*12^{13}*5*10^8 \\cong 3*10^{23}$  Better since most branches will have much less thatn the maximun branching factor."
   ]
  },
  {
   "cell_type": "markdown",
   "metadata": {
    "deletable": true,
    "editable": true
   },
   "source": [
    "### Quiz: Nodes in a Game Tree\n",
    "\n",
    "How many nodes do you thing **MINIMAX** will need to visit?\n",
    "\n",
    "$b$ is the average branching factor, and $d$ is average depth\n",
    "\n",
    "- $bd$\n",
    "- $d^b$\n",
    "- $d^2$\n",
    "- $b^d$ <-- ANSWER!"
   ]
  },
  {
   "cell_type": "markdown",
   "metadata": {
    "deletable": true,
    "editable": true
   },
   "source": [
    "## Average Branching Factor\n",
    "\n",
    "\n",
    "The average branching factor when pieces are moving randomly is $8^{25} \\cong 10^{22}$ nodes.\n",
    "\n",
    "Thats about 1.2 million years to get our answer!\n",
    "\n",
    "This means we need to be more clever about how we make a computer player for isolation.  The exponential growd of the game tree means we can't brute force the problem asn search for the end-game easily. In general, more instresing games will note  be searchable til the end. Either the branching factor is too large, or the depth , or both.\n",
    "\n",
    "When the number of nodes, which we can estimate by branching factors to the depth power, start becoming comparable to the number of second remaining in the life of the universe we know we are in trouble.\n",
    "\n",
    "\n",
    "\n"
   ]
  },
  {
   "cell_type": "markdown",
   "metadata": {
    "deletable": true,
    "editable": true
   },
   "source": [
    "## Depth-Limited Search\n",
    "\n",
    "\n",
    "Lets assume again that we can search $10^9$ nodes per second.\n",
    "\n",
    "So in 2 seconds: $10^9* 2$ sec $= 2*10^9$ nodes\n",
    "\n",
    "We need to solve the equation: $8^{x}<2*10^9$\n",
    "\n",
    "We can do this by taking the log base8 on both sides: $\\log_88^{x} < \\log_8 2*10^9$\n",
    "\n",
    "- $\\log_ax = \\frac{\\log_bx}{\\log_ba}  $\n",
    "\n",
    "- $x < \\frac{\\log_{10}2*10^9}{\\log_{10}8}$\n",
    "\n",
    "- $x< 10.3$\n",
    "\n",
    "Provided that our estimates of a branching factor of 8 on average is good, Its seems OK to only search 10 levels deep.11\n",
    "\n",
    "\n"
   ]
  },
  {
   "cell_type": "markdown",
   "metadata": {
    "deletable": true,
    "editable": true
   },
   "source": []
  },
  {
   "cell_type": "markdown",
   "metadata": {
    "deletable": true,
    "editable": true
   },
   "source": []
  },
  {
   "cell_type": "code",
   "execution_count": null,
   "metadata": {
    "collapsed": true,
    "deletable": true,
    "editable": true
   },
   "outputs": [],
   "source": [
    "## Depth"
   ]
  }
 ],
 "metadata": {
  "kernelspec": {
   "display_name": "Python 3",
   "language": "python",
   "name": "python3"
  },
  "language_info": {
   "codemirror_mode": {
    "name": "ipython",
    "version": 3
   },
   "file_extension": ".py",
   "mimetype": "text/x-python",
   "name": "python",
   "nbconvert_exporter": "python",
   "pygments_lexer": "ipython3",
   "version": "3.6.0"
  }
 },
 "nbformat": 4,
 "nbformat_minor": 2
}
