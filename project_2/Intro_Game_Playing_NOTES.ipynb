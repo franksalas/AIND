{
 "cells": [
  {
   "cell_type": "markdown",
   "metadata": {},
   "source": [
    "## Overview\n",
    "\n",
    "Goal is to desing an AI that is smarer thatn yourself, at least at playing a real game.\n",
    "\n",
    "### Main Topics:\n",
    "1. Adversarial Search\n",
    "2. Minimax Algorithm\n",
    "3. Apha-Beta Pruning\n",
    "4. Evaluation Functions\n",
    "5. Isolation Game Player\n",
    "6. Multiplayer, probabilistic Games"
   ]
  },
  {
   "cell_type": "markdown",
   "metadata": {},
   "source": [
    "## Challenge Question Intro\n",
    "\n",
    "\n",
    "Playing strategy **(deterministic)**games like checkers or isolation or chess, we can use the same algorithms, even the same code to make a computer player for a game  that's as simple as tic-tac-toe or as comlex as chess.\n",
    "\n",
    "In principle the only thing that is diffrent between these games is the code for generating all teh next possible moves as well as the user interface.\n",
    "\n",
    "- **MiniMax** is our primary algorithm to figure aout the best move at every turn.\n",
    "- **Alpha-beta pruning**: helps optimize this algorithm, making the agent play quicker.\n",
    "- **Expectimax**: modified version of Minimax for change games that considers all the possible outcomes and chooses the one with the maximun expected return, That is assuming the opponent is making the best moves available.\n"
   ]
  },
  {
   "cell_type": "markdown",
   "metadata": {},
   "source": [
    "## Isolation\n",
    "\n",
    "### Rules of isolation\n",
    "\n",
    "- **objective**: last player to move.\n",
    "- current board : 5x5\n",
    "- O & X\n",
    "- O goes first, places anyhwere on the board\n",
    "- X can place anywhere remaining\n",
    "- from then on, players move like *queens* in chess, example the player can move horisontal, or verical or diagonal from current location exept that it cant move through oponents piece.\n",
    "- Players cannot go outside the boundaries of the game board, nor through aposition that is  currently or was prevoulsy occupied.\n",
    "- first playe rot get isolated, unable to move on their turn, loses.\n",
    "- when you move, only where you land becomes uobtainable for future moves, not the path.\n"
   ]
  },
  {
   "cell_type": "markdown",
   "metadata": {},
   "source": [
    "## Building a Game Tree\n",
    "\n"
   ]
  },
  {
   "cell_type": "markdown",
   "metadata": {},
   "source": [
    "## MIN and MAX levels"
   ]
  },
  {
   "cell_type": "markdown",
   "metadata": {},
   "source": [
    "# Searching Simple Games\n",
    "Optional Reading\n",
    "Artificial Intelligence - A Modern Approach (AIMA): Chapter 5.1-5.2\n",
    "\n",
    "Optional Readings like these will be assigned throughout the course. If you are interested in diving deeper, please take a break, read the designated chapter/section and come back to the lesson when done."
   ]
  },
  {
   "cell_type": "markdown",
   "metadata": {},
   "source": []
  },
  {
   "cell_type": "markdown",
   "metadata": {},
   "source": []
  },
  {
   "cell_type": "markdown",
   "metadata": {},
   "source": []
  },
  {
   "cell_type": "markdown",
   "metadata": {},
   "source": []
  },
  {
   "cell_type": "markdown",
   "metadata": {},
   "source": []
  },
  {
   "cell_type": "markdown",
   "metadata": {},
   "source": []
  },
  {
   "cell_type": "markdown",
   "metadata": {},
   "source": []
  },
  {
   "cell_type": "code",
   "execution_count": null,
   "metadata": {
    "collapsed": true
   },
   "outputs": [],
   "source": []
  }
 ],
 "metadata": {
  "kernelspec": {
   "display_name": "Python 3",
   "language": "python",
   "name": "python3"
  },
  "language_info": {
   "codemirror_mode": {
    "name": "ipython",
    "version": 3
   },
   "file_extension": ".py",
   "mimetype": "text/x-python",
   "name": "python",
   "nbconvert_exporter": "python",
   "pygments_lexer": "ipython3",
   "version": "3.6.0"
  }
 },
 "nbformat": 4,
 "nbformat_minor": 2
}
